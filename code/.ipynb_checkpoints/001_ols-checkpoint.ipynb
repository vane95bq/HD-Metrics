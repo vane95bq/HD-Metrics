{
 "cells": [
  {
   "cell_type": "markdown",
   "id": "71273f03-c8f7-4335-8a54-baba220d132f",
   "metadata": {},
   "source": [
    "# Least Squares"
   ]
  },
  {
   "cell_type": "code",
   "execution_count": 1,
   "id": "8bb3fbe5-a1d1-424a-be13-bf41f4ffc8a8",
   "metadata": {},
   "outputs": [],
   "source": [
    "%%capture\n",
    "import stata_setup, os\n",
    "if os.name == 'nt':\n",
    "    stata_setup.config('C:/Program Files/Stata17/','mp')\n",
    "else:\n",
    "    stata_setup.config('/usr/local/stata17','mp')"
   ]
  },
  {
   "cell_type": "markdown",
   "id": "112b05b1-5300-4c59-92bc-959324880ddf",
   "metadata": {},
   "source": [
    "We load the data, rename the outcome variable, generate the indicator variables for ```year``` and ```cluster``` and define local Stata variables called ```journals``` and ```jel_imp``` which collects all relevant indicators."
   ]
  },
  {
   "cell_type": "code",
   "execution_count": 2,
   "id": "5aaeb4d9-fb3b-491f-a7e5-97c0eb812dee",
   "metadata": {},
   "outputs": [
    {
     "name": "stdout",
     "output_type": "stream",
     "text": [
      "\n"
     ]
    }
   ],
   "source": [
    "%%stata -qui\n",
    "\n",
    "use \"../data/data\", clear\n",
    "rename log_flesch_kincaid_grade_level FKG\n",
    "quietly tabulate year, generate(y_)\n",
    "quietly tabulate cluster, generate(c_)\n",
    "\n",
    "local journals  ecm jpe qje res  //AER based category\n",
    "\n",
    "local jel_imp a_imp b_imp c_imp  e_imp f_imp g_imp h_imp i_imp j_imp k_imp /// \n",
    "\t\tl_imp m_imp n_imp o_imp p_imp q_imp r_imp y_imp z_imp // D JEL based case"
   ]
  },
  {
   "cell_type": "markdown",
   "id": "c4813f7c-b80b-426d-99c7-63827cbec5c9",
   "metadata": {},
   "source": [
    "Performing the OLS regression of $\\mathbf{Y}$ on $\\mathbf{X}$ using ```Stata```:"
   ]
  },
  {
   "cell_type": "code",
   "execution_count": 3,
   "id": "f734ef44-1ad6-4bb8-9e2e-b2da50145c81",
   "metadata": {},
   "outputs": [
    {
     "name": "stdout",
     "output_type": "stream",
     "text": [
      "\n"
     ]
    }
   ],
   "source": [
    "%%stata -qui\n",
    "#delimit ;\n",
    "reg FKG log_num_authors log_num_pages both_genders prop_women\n",
    "\t\t\t`journals' `jel_imp' y_2-y_20  c_2-c_215  jel_flag, vce(cluster cluster);\n",
    "matrix b_selected = e(b)[1,\"log_num_authors\"],e(b)[1,\"log_num_pages\"],\n",
    "                    e(b)[1,\"both_genders\"],e(b)[1,\"prop_women\"],e(b)[1,\"_cons\"];\n",
    "#delimit cr"
   ]
  },
  {
   "cell_type": "markdown",
   "id": "b14cd656-3f2a-4ca2-bfd8-d18ed4fcd662",
   "metadata": {},
   "source": [
    "Printing a subset of\n",
    "the OLS estimate $\\widehat{\\beta}$ (originally a $262\\times 1$ vector)"
   ]
  },
  {
   "cell_type": "code",
   "execution_count": 4,
   "id": "8dd9e41d-a408-44ae-8972-d17b92fd0dee",
   "metadata": {},
   "outputs": [
    {
     "name": "stdout",
     "output_type": "stream",
     "text": [
      "\n",
      "b_selected[1,5]\n",
      "    log_num_au~s  log_num_pa~s  both_genders    prop_women         _cons\n",
      "y1    -.00397377     .01915903     .00059809    -.01889331     2.7023992\n"
     ]
    }
   ],
   "source": [
    "%%stata\n",
    "matrix list b_selected"
   ]
  },
  {
   "cell_type": "markdown",
   "id": "bab53f34-0874-43a5-a9fa-bbed742c5ec3",
   "metadata": {},
   "source": [
    "Predicting the _fitted values_ and the _residuals_, then format them to be displayed with up to 4 decimals only along with other variables."
   ]
  },
  {
   "cell_type": "code",
   "execution_count": 5,
   "id": "b8928743-f3b4-4bc5-8fb8-bb41f5f1a997",
   "metadata": {},
   "outputs": [
    {
     "name": "stdout",
     "output_type": "stream",
     "text": [
      "\n"
     ]
    }
   ],
   "source": [
    "%%stata -qui\n",
    "predict FKG_hat, xb\n",
    "predict double e_hat, residuals\n",
    "format FKG FKG_hat e_hat log_num_authors log_num_pages %5.4f "
   ]
  },
  {
   "cell_type": "markdown",
   "id": "ecf0c337-56c2-4c13-a18d-1611040739bf",
   "metadata": {},
   "source": [
    "These command randomly sorts the rows of the data set in memory."
   ]
  },
  {
   "cell_type": "code",
   "execution_count": 6,
   "id": "f0949101-760b-400a-8200-4b065a9e9b8f",
   "metadata": {},
   "outputs": [
    {
     "name": "stdout",
     "output_type": "stream",
     "text": [
      "\n"
     ]
    }
   ],
   "source": [
    "%%stata -qui\n",
    "#delimit ;\n",
    "set seed 42; tempvar sortorder; gen `sortorder' = runiform(); sort `sortorder';\n",
    "#delimit cr"
   ]
  },
  {
   "cell_type": "code",
   "execution_count": 7,
   "id": "a408f4e1-901d-4a2a-ad48-5a06ae5bb51e",
   "metadata": {},
   "outputs": [
    {
     "name": "stdout",
     "output_type": "stream",
     "text": [
      "\n",
      "     +------------------------------------------------------------------------+\n",
      "     |    FKG   FKG_hat     e_hat   log_n~rs   log_~ges   both_g~s   prop_w~n |\n",
      "     |------------------------------------------------------------------------|\n",
      "  1. | 2.8015    2.7041    0.0973     0.6931     3.5835          1         .5 |\n",
      "  2. | 2.7776    2.7294    0.0482     0.6931     3.7136          0          0 |\n",
      "  3. | 2.7829    2.7017    0.0812     1.0986     3.1781          0          0 |\n",
      "  4. | 2.7027    2.7289   -0.0262     0.0000     3.5553          0          0 |\n",
      "  5. | 2.8278    2.7167    0.1111     0.6931     3.3322          0          0 |\n",
      "  6. | 2.3858    2.7210   -0.3352     0.6931     3.2958          0          0 |\n",
      "  7. | 2.1718    2.7226   -0.5509     0.0000     3.8286          0          0 |\n",
      "  8. | 2.5743    2.7851   -0.2108     0.0000     3.4657          0          0 |\n",
      "  9. | 2.8177    2.8233   -0.0056     1.0986     4.1589          0          0 |\n",
      " 10. | 2.7264    2.7048    0.0216     1.3863     3.5264          1        .25 |\n",
      " 11. | 2.7479    2.7620   -0.0141     1.0986     3.6889          0          0 |\n",
      " 12. | 2.7395    2.7227    0.0168     0.6931     3.5553          1         .5 |\n",
      " 13. | 2.6606    2.7556   -0.0950     1.0986     3.1781          0          0 |\n",
      " 14. | 2.8647    2.6974    0.1673     0.0000     3.8286          0          0 |\n",
      " 15. | 3.0438    2.7470    0.2968     0.6931     3.9120          0          0 |\n",
      " 16. | 2.4055    2.7176   -0.3121     0.6931     3.4965          0          0 |\n",
      " 17. | 2.5595    2.7322   -0.1727     0.6931     3.6109          0          0 |\n",
      " 18. | 2.8343    2.6958    0.1386     1.0986     3.9890          0          0 |\n",
      " 19. | 2.8574    2.7618    0.0956     0.0000     3.2189          0          0 |\n",
      " 20. | 2.6740    2.7560   -0.0820     0.6931     3.5264          0          0 |\n",
      "     +------------------------------------------------------------------------+\n"
     ]
    }
   ],
   "source": [
    "%stata list FKG FKG_hat e_hat log_num_authors log_num_pages both_genders prop_women in 1/20, table separator(20)"
   ]
  },
  {
   "cell_type": "markdown",
   "id": "4b3034cb-32ae-4f41-bb55-bd511d334f75",
   "metadata": {},
   "source": [
    "Printing the $TSS$"
   ]
  },
  {
   "cell_type": "code",
   "execution_count": 8,
   "id": "92e381f4-a688-4314-8a1f-9302dc9b682e",
   "metadata": {},
   "outputs": [
    {
     "name": "stdout",
     "output_type": "stream",
     "text": [
      "140.32277\n"
     ]
    }
   ],
   "source": [
    "%stata display e(mss)+e(rss)"
   ]
  },
  {
   "cell_type": "markdown",
   "id": "d0be83e3-d81d-4653-96af-15951adb3ade",
   "metadata": {},
   "source": [
    "Printing the $ESS$"
   ]
  },
  {
   "cell_type": "code",
   "execution_count": 9,
   "id": "430b54e0-485a-4e7b-9ad4-91b9b6f95cff",
   "metadata": {},
   "outputs": [
    {
     "name": "stdout",
     "output_type": "stream",
     "text": [
      "12.920871\n"
     ]
    }
   ],
   "source": [
    "%stata display e(mss)"
   ]
  },
  {
   "cell_type": "markdown",
   "id": "b8991d5c-deb1-4be6-97f3-1c9ffe26d236",
   "metadata": {},
   "source": [
    "Printing the $RSS$"
   ]
  },
  {
   "cell_type": "code",
   "execution_count": 10,
   "id": "22a8b074-59ab-4d60-a70b-a17dee63836f",
   "metadata": {},
   "outputs": [
    {
     "name": "stdout",
     "output_type": "stream",
     "text": [
      "127.4019\n"
     ]
    }
   ],
   "source": [
    "%stata display e(rss)"
   ]
  },
  {
   "cell_type": "markdown",
   "id": "5bc77f7b-6103-4481-86a3-031dd4121da0",
   "metadata": {},
   "source": [
    "Printing the $R^2$"
   ]
  },
  {
   "cell_type": "code",
   "execution_count": 11,
   "id": "de91f325-8869-4d86-9e92-6a0e26878636",
   "metadata": {},
   "outputs": [
    {
     "name": "stdout",
     "output_type": "stream",
     "text": [
      ".09207965\n"
     ]
    }
   ],
   "source": [
    "%stata display e(mss)/(e(mss)+e(rss))"
   ]
  },
  {
   "cell_type": "markdown",
   "id": "1dbd53f0-3ac2-479a-a702-7aa04c4fd3a0",
   "metadata": {},
   "source": [
    "## Leverage Values & LOO Regression"
   ]
  },
  {
   "cell_type": "markdown",
   "id": "2debf605-b89f-4124-8e87-ef6b7372bc9b",
   "metadata": {},
   "source": [
    "Extracting the leverage values"
   ]
  },
  {
   "cell_type": "code",
   "execution_count": 12,
   "id": "ba35b13a-6d68-47ae-934c-efb4c9e42ac8",
   "metadata": {},
   "outputs": [
    {
     "name": "stdout",
     "output_type": "stream",
     "text": [
      "\n"
     ]
    }
   ],
   "source": [
    "%%stata -qui\n",
    "#delimit ;\n",
    "reg FKG log_num_authors  log_num_pages both_genders prop_women\n",
    "\t\t\t`journals' `jel_imp' y_2-y_20  c_2-c_215  jel_flag;\n",
    "#delimit cr\n",
    "predict h, leverage\n",
    "summarize h"
   ]
  },
  {
   "cell_type": "markdown",
   "id": "0706d353-9c71-436d-a111-fa372b5a6f61",
   "metadata": {},
   "source": [
    "Checking that $0\\le h_{ii} \\le 1$"
   ]
  },
  {
   "cell_type": "code",
   "execution_count": 13,
   "id": "756f6265-54b0-4e01-ad9f-003ed7c2d5ed",
   "metadata": {},
   "outputs": [
    {
     "name": "stdout",
     "output_type": "stream",
     "text": [
      "\n",
      ". display \"Min: \" r(min)\n",
      "Min: .00481838\n",
      "\n",
      ". display \"Max: \" r(max)\n",
      "Max: 1\n",
      "\n",
      ". \n"
     ]
    }
   ],
   "source": [
    "%%stata\n",
    "display \"Min: \" r(min)\n",
    "display \"Max: \" r(max)"
   ]
  },
  {
   "cell_type": "markdown",
   "id": "d90e3286-43a0-4a94-a265-9776f674635a",
   "metadata": {},
   "source": [
    "Checking that $h_{ii}\\ge 1/n$ by checking that $\\min_{i=1,\\ldots,n}(h_{ii})\\ge 1/n$"
   ]
  },
  {
   "cell_type": "code",
   "execution_count": 14,
   "id": "e241d384",
   "metadata": {},
   "outputs": [
    {
     "name": "stdout",
     "output_type": "stream",
     "text": [
      "\n",
      ". local sample_size = r(N)\n",
      "\n",
      ". local reciprocal = 1 / `sample_size'\n",
      "\n",
      ". local min_leverage = r(min)\n",
      "\n",
      ". display \"Min leverage >= 1/N: \" (`min_leverage' >= `reciprocal')\n",
      "Min leverage >= 1/N: 1\n",
      "\n",
      ". \n"
     ]
    }
   ],
   "source": [
    "%%stata\n",
    "local sample_size = r(N)\n",
    "local reciprocal = 1 / `sample_size'\n",
    "local min_leverage = r(min)\n",
    "display \"Min leverage >= 1/N: \" (`min_leverage' >= `reciprocal')"
   ]
  },
  {
   "cell_type": "markdown",
   "id": "ca071081-f9c2-4cab-abfa-8325622b2caf",
   "metadata": {},
   "source": [
    "Checking that $\\sum_{i=1}^n h_{ii}=k$"
   ]
  },
  {
   "cell_type": "code",
   "execution_count": 15,
   "id": "fc3a5217",
   "metadata": {},
   "outputs": [
    {
     "name": "stdout",
     "output_type": "stream",
     "text": [
      "\n",
      ". egen total_h = total(h)\n",
      "\n",
      ". local rounded_total_h = ceil(total_h)\n",
      "\n",
      ". display \"Rounded total of h: \" `rounded_total_h'\n",
      "Rounded total of h: 262\n",
      "\n",
      ". \n"
     ]
    }
   ],
   "source": [
    "%%stata\n",
    "egen total_h = total(h)\n",
    "local rounded_total_h = ceil(total_h)\n",
    "display \"Rounded total of h: \" `rounded_total_h'"
   ]
  },
  {
   "cell_type": "markdown",
   "id": "3584c8bf-da85-439e-a2c5-8c606b66240b",
   "metadata": {},
   "source": [
    "Extracting the matrix $\\widehat{\\beta}_{(-i)}-\\widehat{\\beta}$ for the `prop_women` regressor and the LOO residuals $\\widetilde{e}_{i}$. Notice that Stata scales these parameters by their standard error."
   ]
  },
  {
   "cell_type": "code",
   "execution_count": 16,
   "id": "e27fa7ba",
   "metadata": {},
   "outputs": [
    {
     "name": "stdout",
     "output_type": "stream",
     "text": [
      "\n"
     ]
    }
   ],
   "source": [
    "%%stata -qui\n",
    "predict dfbeta, dfbeta(prop_women)\n",
    "gen double dfbeta_se = dfbeta*_se[prop_women]\n",
    "cv_regress, generr(e_tilde)"
   ]
  },
  {
   "cell_type": "markdown",
   "id": "494caeb2",
   "metadata": {},
   "source": [
    "We identify an observation (row 1430) for which there is a perfect fit."
   ]
  },
  {
   "cell_type": "code",
   "execution_count": 17,
   "id": "177b598c",
   "metadata": {},
   "outputs": [
    {
     "name": "stdout",
     "output_type": "stream",
     "text": [
      "\n",
      "      +-------------------------------------------------------+\n",
      "      |    FKG   FKG_hat   h   dfbeta~e    e_hat      e_tilde |\n",
      "      |-------------------------------------------------------|\n",
      "1430. | 2.6987    2.6987   1          .   0.0000   -.01899181 |\n",
      "      +-------------------------------------------------------+\n"
     ]
    }
   ],
   "source": [
    "%stata list FKG FKG_hat h dfbeta_se e_hat e_tilde in 1430, table separator(20)"
   ]
  },
  {
   "cell_type": "code",
   "execution_count": 18,
   "id": "0a29665a",
   "metadata": {},
   "outputs": [
    {
     "name": "stdout",
     "output_type": "stream",
     "text": [
      "\n",
      ". frame put dfbeta_se e_tilde, into(original)\n",
      "\n",
      ". \n",
      ". drop in 1430\n",
      "(1 observation deleted)\n",
      "\n",
      ". frame put dfbeta_se e_tilde, into(subset)\n",
      "\n",
      ". \n"
     ]
    }
   ],
   "source": [
    "%%stata -fouta original,subset\n",
    "frame put dfbeta_se e_tilde, into(original)\n",
    "\n",
    "drop in 1430\n",
    "frame put dfbeta_se e_tilde, into(subset)"
   ]
  },
  {
   "cell_type": "code",
   "execution_count": 19,
   "id": "c3ff920c",
   "metadata": {},
   "outputs": [],
   "source": [
    "from sfi import Data\n",
    "import numpy as np\n",
    "import pandas as pd\n",
    "dfbeta_py = subset[:,0]\n",
    "e_tilde_py = subset[:,1]"
   ]
  },
  {
   "cell_type": "markdown",
   "id": "590e6c3c-256f-487a-9479-21bfb3fb142c",
   "metadata": {},
   "source": [
    "Plotting the sets $\\{\\widehat{\\beta}_{(-i)}-\\widehat{\\beta}:i=1,\\ldots,n\\}$ and $\\{\\widetilde{e}_{i}:i=1,\\ldots,n\\}$ against their indexes $i=1,\\ldots,n$"
   ]
  },
  {
   "cell_type": "code",
   "execution_count": 20,
   "id": "53f17414-7809-45d7-a6f7-814c2fffd9f3",
   "metadata": {},
   "outputs": [
    {
     "data": {
      "image/png": "[encoded data removed]",
      "text/plain": [
       "<Figure size 640x480 with 2 Axes>"
      ]
     },
     "metadata": {},
     "output_type": "display_data"
    }
   ],
   "source": [
    "import matplotlib.pyplot as plt\n",
    "fig, axs = plt.subplots(2)\n",
    "axs[0].plot(np.linspace(1,e_tilde_py.size,num=e_tilde_py.size).astype(int), dfbeta_py)\n",
    "axs[0].set_title(r'$\\widehat{\\beta}_{-i}-\\widehat{\\beta}$ vs $i=1,\\ldots,n$')\n",
    "axs[1].plot(np.linspace(1,e_tilde_py.size,num=e_tilde_py.size).astype(int), e_tilde_py,'tab:orange')\n",
    "axs[1].set_title(r'$\\widetilde{e}_{i}$ vs $i=1,\\ldots,n$')\n",
    "# Hide x labels and tick labels for top plots\n",
    "for ax in axs.flat:\n",
    "    ax.label_outer()"
   ]
  },
  {
   "cell_type": "markdown",
   "id": "dd904957-05a9-47f5-87d1-ce29f85fdfd8",
   "metadata": {},
   "source": [
    "The '*prediction standard error*' is:"
   ]
  },
  {
   "cell_type": "code",
   "execution_count": 21,
   "id": "07c60590-6196-4a6c-bddf-378544e36fd3",
   "metadata": {},
   "outputs": [
    {
     "name": "stdout",
     "output_type": "stream",
     "text": [
      "0.16926435264017708\n"
     ]
    }
   ],
   "source": [
    "print(np.sqrt(np.mean(e_tilde_py**2)))"
   ]
  },
  {
   "cell_type": "markdown",
   "id": "6fdd152d-cd18-4e13-925e-e8956a81ca32",
   "metadata": {},
   "source": [
    "## Residuals"
   ]
  },
  {
   "cell_type": "code",
   "execution_count": 22,
   "id": "a07662f6-549d-4fc4-9d42-3ee8b4d32b43",
   "metadata": {},
   "outputs": [
    {
     "name": "stdout",
     "output_type": "stream",
     "text": [
      "\n",
      ". gen e_bar = e_hat/sqrt(1-h)\n",
      "\n",
      ". format e_hat e_tilde e_bar %5.4f\n",
      "\n",
      ". list e_hat e_tilde e_bar in 1/10, table separator(20)\n",
      "\n",
      "     +-----------------------------+\n",
      "     |   e_hat   e_tilde     e_bar |\n",
      "     |-----------------------------|\n",
      "  1. |  0.0973    0.0981    0.0977 |\n",
      "  2. |  0.0482    0.0485    0.0483 |\n",
      "  3. |  0.0812    0.0821    0.0817 |\n",
      "  4. | -0.0262   -0.0265   -0.0264 |\n",
      "  5. |  0.1111    0.1117    0.1114 |\n",
      "  6. | -0.3352   -0.3381   -0.3366 |\n",
      "  7. | -0.5509   -0.5568   -0.5539 |\n",
      "  8. | -0.2108   -0.2125   -0.2117 |\n",
      "  9. | -0.0056   -0.0066   -0.0061 |\n",
      " 10. |  0.0216    0.0218    0.0217 |\n",
      "     +-----------------------------+\n",
      "\n",
      ". summarize e_hat e_tilde e_bar\n",
      "\n",
      "    Variable |        Obs        Mean    Std. dev.       Min        Max\n",
      "-------------+---------------------------------------------------------\n",
      "       e_hat |      4,987    1.59e-16    .1598497   -.719324   1.287893\n",
      "     e_tilde |      4,987   -1.61e-06    .1692813    -.78422   1.296832\n",
      "       e_bar |      4,987   -5.28e-07    .1636692  -.7460606   1.292355\n",
      "\n",
      ". \n"
     ]
    }
   ],
   "source": [
    "%%stata\n",
    "gen e_bar = e_hat/sqrt(1-h)\n",
    "format e_hat e_tilde e_bar %5.4f\n",
    "list e_hat e_tilde e_bar in 1/10, table separator(20)\n",
    "summarize e_hat e_tilde e_bar"
   ]
  },
  {
   "cell_type": "markdown",
   "id": "f2507f1c-bdc5-48d3-a779-4f5cab8dc80e",
   "metadata": {},
   "source": [
    "## Covariance Matrix Estimation"
   ]
  },
  {
   "cell_type": "markdown",
   "id": "17824dc4-20d4-4ee7-af7c-aa14577d4b2c",
   "metadata": {},
   "source": [
    "**<span style=\"color:red\">Homoskedasticity:</span>**\n",
    "\n",
    "$$\n",
    "\\widehat{\\mathbf{V}}_{\\widehat{\\beta}}^{0}=\\left(\\mathbf{X}^{\\prime} \\mathbf{X}\\right)^{-1} s^{2}\n",
    "$$"
   ]
  },
  {
   "cell_type": "code",
   "execution_count": 23,
   "id": "91184b64-08b5-4782-bfec-617778e11410",
   "metadata": {},
   "outputs": [
    {
     "name": "stdout",
     "output_type": "stream",
     "text": [
      "\n"
     ]
    }
   ],
   "source": [
    "%%stata -qui\n",
    "#delimit ;\n",
    "quietly reg FKG log_num_authors  log_num_pages both_genders prop_women\n",
    "\t\t\t`journals' `jel_imp' y_2-y_20  c_2-c_215  jel_flag;\n",
    "matrix subV = (e(V)[1,1], e(V)[1,2], e(V)[1,3], e(V)[1,4], e(V)[1,262] \\ \n",
    "               e(V)[2,1], e(V)[2,2], e(V)[2,3], e(V)[2,4], e(V)[2,262] \\ \n",
    "               e(V)[3,1], e(V)[3,2], e(V)[3,3], e(V)[3,4], e(V)[3,262] \\ \n",
    "               e(V)[4,1], e(V)[4,2], e(V)[4,3], e(V)[4,4], e(V)[4,262] \\ \n",
    "               e(V)[262,1], e(V)[262,2], e(V)[262,3], e(V)[262,4], e(V)[262,262]);\n",
    "#delimit cr"
   ]
  },
  {
   "cell_type": "code",
   "execution_count": 24,
   "id": "42de21b9-8456-423b-b84f-ead5d1f80887",
   "metadata": {},
   "outputs": [
    {
     "name": "stdout",
     "output_type": "stream",
     "text": [
      "\n",
      "symmetric subV[5,5]\n",
      "            c1          c2          c3          c4          c5\n",
      "r1   .00004099\n",
      "r2  -1.088e-06    .0000722\n",
      "r3  -.00002105   1.429e-06   .00006243\n",
      "r4    .0000197  -3.541e-06   -.0000547   .00013851\n",
      "r5  -7.562e-06  -.00020284   7.309e-06  -.00001451   .00081714\n"
     ]
    }
   ],
   "source": [
    "%stata matrix list subV"
   ]
  },
  {
   "cell_type": "markdown",
   "id": "1e6bbfae-c683-4fee-8664-f255f38085a5",
   "metadata": {},
   "source": [
    "**<span style=\"color:red\">HC1:</span>** (most common in *econometrics*)\n",
    "\n",
    "$$\n",
    "\\widehat{\\mathbf{V}}_{\\widehat{\\beta}}^{\\mathrm{HCl}}=\\left(\\frac{n}{n-k}\\right)\\left(\\mathbf{X}^{\\prime} \\mathbf{X}\\right)^{-1}\\left(\\sum_{i=1}^{n} X_{i} X_{i}^{\\prime}\\widehat{e}_{i}^{2} \\right)\\left(\\mathbf{X}^{\\prime} \\mathbf{X}\\right)^{-1}\n",
    "$$\n"
   ]
  },
  {
   "cell_type": "code",
   "execution_count": 25,
   "id": "15c02d54-5554-43db-8c7c-5e62a771b410",
   "metadata": {},
   "outputs": [
    {
     "name": "stdout",
     "output_type": "stream",
     "text": [
      "\n"
     ]
    }
   ],
   "source": [
    "%%stata -qui\n",
    "#delimit ;\n",
    "quietly reg FKG log_num_authors  log_num_pages both_genders prop_women\n",
    "\t\t\t`journals' `jel_imp' y_2-y_20  c_2-c_215  jel_flag, robust;\n",
    "matrix subV = (e(V)[1,1], e(V)[1,2], e(V)[1,3], e(V)[1,4], e(V)[1,262] \\ \n",
    "               e(V)[2,1], e(V)[2,2], e(V)[2,3], e(V)[2,4], e(V)[2,262] \\ \n",
    "               e(V)[3,1], e(V)[3,2], e(V)[3,3], e(V)[3,4], e(V)[3,262] \\ \n",
    "               e(V)[4,1], e(V)[4,2], e(V)[4,3], e(V)[4,4], e(V)[4,262] \\ \n",
    "               e(V)[262,1], e(V)[262,2], e(V)[262,3], e(V)[262,4], e(V)[262,262]);\n",
    "#delimit cr"
   ]
  },
  {
   "cell_type": "code",
   "execution_count": 26,
   "id": "1d183496-f137-4b75-98f3-0b12ab6ef65d",
   "metadata": {},
   "outputs": [
    {
     "name": "stdout",
     "output_type": "stream",
     "text": [
      "\n",
      "symmetric subV[5,5]\n",
      "            c1          c2          c3          c4          c5\n",
      "r1   .00004124\n",
      "r2  -5.581e-07   .00008565\n",
      "r3  -.00002108   6.834e-07   .00005945\n",
      "r4   .00001795  -3.164e-06  -.00004687   .00012277\n",
      "r5  -.00001192  -.00024072   6.694e-06  -.00001518   .00094301\n"
     ]
    }
   ],
   "source": [
    "%stata matrix list subV"
   ]
  },
  {
   "cell_type": "markdown",
   "id": "b1aa8fcf-49b1-41fd-94e7-a1374e2ab0aa",
   "metadata": {},
   "source": [
    "**<span style=\"color:red\">HC2:</span>**\n",
    "\n",
    "$$\n",
    "\\widehat{\\mathbf{V}}_{\\widehat{\\beta}}^{\\mathrm{HC2}}=\\left(\\mathbf{X}^{\\prime} \\mathbf{X}\\right)^{-1}\\left(\\sum_{i=1}^{n} \\left(1-h_{i i}\\right)^{-1} X_{i}X_{i}^{\\prime}\\widehat{e}_{i}^{2} \\right)\\left(\\mathbf{X}^{\\prime} \\mathbf{X}\\right)^{-1}\n",
    "$$"
   ]
  },
  {
   "cell_type": "code",
   "execution_count": 27,
   "id": "316f572e-6e20-46a5-b78c-0e3299b8bdcb",
   "metadata": {},
   "outputs": [
    {
     "name": "stdout",
     "output_type": "stream",
     "text": [
      "\n"
     ]
    }
   ],
   "source": [
    "%%stata -qui\n",
    "#delimit ;\n",
    "quietly reg FKG log_num_authors  log_num_pages both_genders prop_women\n",
    "\t\t\t`journals' `jel_imp' y_2-y_20  c_2-c_215  jel_flag, vce(hc2);\n",
    "matrix subV = (e(V)[1,1], e(V)[1,2], e(V)[1,3], e(V)[1,4], e(V)[1,262] \\ \n",
    "               e(V)[2,1], e(V)[2,2], e(V)[2,3], e(V)[2,4], e(V)[2,262] \\ \n",
    "               e(V)[3,1], e(V)[3,2], e(V)[3,3], e(V)[3,4], e(V)[3,262] \\ \n",
    "               e(V)[4,1], e(V)[4,2], e(V)[4,3], e(V)[4,4], e(V)[4,262] \\ \n",
    "               e(V)[262,1], e(V)[262,2], e(V)[262,3], e(V)[262,4], e(V)[262,262]);\n",
    "#delimit cr"
   ]
  },
  {
   "cell_type": "code",
   "execution_count": 28,
   "id": "a5b4f1db-146b-43ef-8b13-a86a61cbde9b",
   "metadata": {},
   "outputs": [
    {
     "name": "stdout",
     "output_type": "stream",
     "text": [
      "\n",
      "symmetric subV[5,5]\n",
      "            c1          c2          c3          c4          c5\n",
      "r1    .0000403\n",
      "r2  -4.578e-07   .00008355\n",
      "r3  -.00002052   6.952e-07   .00005827\n",
      "r4   .00001753  -3.246e-06  -.00004627   .00012031\n",
      "r5  -.00001194   -.0002348   6.443e-06  -.00001406   .00092048\n"
     ]
    }
   ],
   "source": [
    "%stata matrix list subV"
   ]
  },
  {
   "cell_type": "markdown",
   "id": "8e181d45-6712-444a-b2f0-269643077eeb",
   "metadata": {},
   "source": [
    "**<span style=\"color:red\">HC3:</span>**\n",
    "\n",
    "$$\n",
    "\\widehat{\\mathbf{V}}_{\\widehat{\\beta}}^{\\mathrm{HC3}}=\\left(\\mathbf{X}^{\\prime} \\mathbf{X}\\right)^{-1}\\left(\\sum_{i=1}^{n}  \\left(1-h_{i i}\\right)^{-2}X_{i}X_{i}^{\\prime}\\widehat{e}_{i}^{2}  \\right)\\left(\\mathbf{X}^{\\prime} \\mathbf{X}\\right)^{-1}\n",
    "$$"
   ]
  },
  {
   "cell_type": "code",
   "execution_count": 29,
   "id": "3ed80a80-d9b4-46ce-8cce-d954688007b2",
   "metadata": {},
   "outputs": [
    {
     "name": "stdout",
     "output_type": "stream",
     "text": [
      "\n"
     ]
    }
   ],
   "source": [
    "%%stata -qui\n",
    "#delimit ;\n",
    "quietly reg FKG log_num_authors  log_num_pages both_genders prop_women\n",
    "\t\t\t`journals' `jel_imp' y_2-y_20  c_2-c_215  jel_flag, vce(hc3);\n",
    "matrix subV = (e(V)[1,1], e(V)[1,2], e(V)[1,3], e(V)[1,4], e(V)[1,262] \\ \n",
    "               e(V)[2,1], e(V)[2,2], e(V)[2,3], e(V)[2,4], e(V)[2,262] \\ \n",
    "               e(V)[3,1], e(V)[3,2], e(V)[3,3], e(V)[3,4], e(V)[3,262] \\ \n",
    "               e(V)[4,1], e(V)[4,2], e(V)[4,3], e(V)[4,4], e(V)[4,262] \\ \n",
    "               e(V)[262,1], e(V)[262,2], e(V)[262,3], e(V)[262,4], e(V)[262,262]);\n",
    "#delimit cr"
   ]
  },
  {
   "cell_type": "code",
   "execution_count": 30,
   "id": "45508876-0c24-47c4-946a-a71c0cfb5e12",
   "metadata": {},
   "outputs": [
    {
     "name": "stdout",
     "output_type": "stream",
     "text": [
      "\n",
      "symmetric subV[5,5]\n",
      "            c1          c2          c3          c4          c5\n",
      "r1   .00004194\n",
      "r2  -3.125e-07   .00008692\n",
      "r3  -.00002119   7.647e-07   .00006098\n",
      "r4   .00001823  -3.608e-06  -.00004889   .00012578\n",
      "r5  -.00001295  -.00024429   6.464e-06  -.00001345   .00095855\n"
     ]
    }
   ],
   "source": [
    "%stata matrix list subV"
   ]
  },
  {
   "cell_type": "markdown",
   "id": "db8b56b7-f058-475f-9849-51de30a23818",
   "metadata": {},
   "source": [
    "## Measures of Fit"
   ]
  },
  {
   "cell_type": "markdown",
   "id": "ba11ff4d-947b-448b-b75c-dcb4a4be8caa",
   "metadata": {},
   "source": [
    "**<span style=\"color:red\">R-squared:</span>**\n",
    "$$\n",
    "R^{2}=1-\\frac{\\sum_{i=1}^{n} \\widehat{e}_{i}^{2}}{\\sum_{i=1}^{n}\\left(y_{i}-\\bar{y}\\right)^{2}}\n",
    "$$"
   ]
  },
  {
   "cell_type": "code",
   "execution_count": 31,
   "id": "d366415b-a51f-49bc-a354-d36c08b0a3e9",
   "metadata": {},
   "outputs": [
    {
     "name": "stdout",
     "output_type": "stream",
     "text": [
      "0.0920741179606932\n"
     ]
    }
   ],
   "source": [
    "from sfi import Scalar\n",
    "rsquared=Scalar.getValue('e(r2)')\n",
    "print(rsquared)"
   ]
  },
  {
   "cell_type": "markdown",
   "id": "4701cefd-606a-4f0f-8851-06715f850ceb",
   "metadata": {},
   "source": [
    "**<span style=\"color:red\">Adjusted R-squared:</span>**\n",
    "\n",
    "$$\n",
    "\\bar{R}^{2}=1-\\frac{(n-1) \\sum_{i=1}^{n} \\hat{e}_{i}^{2}}{(n-k) \\sum_{i=1}^{n}\\left(y_{i}-\\bar{y}\\right)^{2}}\n",
    "$$"
   ]
  },
  {
   "cell_type": "code",
   "execution_count": 32,
   "id": "5b08831a-2149-408a-b55a-3a39b54e207e",
   "metadata": {},
   "outputs": [
    {
     "name": "stdout",
     "output_type": "stream",
     "text": [
      "0.04212474654084131\n"
     ]
    }
   ],
   "source": [
    "radj=Scalar.getValue('e(r2_a)')\n",
    "print(radj)"
   ]
  },
  {
   "cell_type": "markdown",
   "id": "77a4f7db-ff83-4609-810c-ecba57fe2396",
   "metadata": {},
   "source": [
    "**<span style=\"color:red\">(Alternative) R-squared:</span>**\n",
    "\n",
    "$$\n",
    "\\widetilde{R}^{2}=1-\\frac{\\sum_{i=1}^{n} \\widetilde{e}_{i}^{2}}{\\sum_{i=1}^{n}\\left(y_{i}-\\bar{y}\\right)^{2}}\n",
    "$$"
   ]
  },
  {
   "cell_type": "code",
   "execution_count": 33,
   "id": "df97b6df-d13e-451a-a8bf-5f40cca0a4e0",
   "metadata": {},
   "outputs": [
    {
     "name": "stdout",
     "output_type": "stream",
     "text": [
      "\n",
      "-0.018227644225774275\n"
     ]
    }
   ],
   "source": [
    "from pystata import stata\n",
    "stata.run('''\n",
    "reg FKG log_num_authors log_num_pages both_genders prop_women  ///\n",
    "\t\t\t`journals' `jel_imp' y_2-y_20  c_2-c_215  jel_flag\n",
    "''',quietly=True)\n",
    "mss=Scalar.getValue('e(mss)')\n",
    "rss=Scalar.getValue('e(rss)')\n",
    "R2_tilde = 1 - (e_tilde_py**2).sum()/(mss+rss)\n",
    "print(R2_tilde)"
   ]
  },
  {
   "cell_type": "markdown",
   "id": "f64ca3fa",
   "metadata": {},
   "source": [
    "## Clustering"
   ]
  },
  {
   "cell_type": "code",
   "execution_count": 34,
   "id": "64e20e5f",
   "metadata": {},
   "outputs": [
    {
     "name": "stdout",
     "output_type": "stream",
     "text": [
      "\n",
      ". sort cluster\n",
      "\n",
      ". list FKG log_num_authors log_num_pages both_genders prop_women cluster ///\n",
      ">      in 4304/4322, table separator(20)\n",
      "\n",
      "      +--------------------------------------------------------------+\n",
      "      |    FKG   log_n~rs   log_~ges   both_g~s   prop_w~n   cluster |\n",
      "      |--------------------------------------------------------------|\n",
      "4304. | 2.7475     0.6931     3.3322          0          0         1 |\n",
      "4305. | 2.6851     0.6931     2.7726          0          0         1 |\n",
      "4306. | 2.7232     1.0986     2.6391          0          0         1 |\n",
      "4307. | 2.9889     0.6931     2.7081          0          0         2 |\n",
      "4308. | 2.7419     1.0986     2.8904          0          0         2 |\n",
      "4309. | 2.9387     0.6931     3.0910          0          0         2 |\n",
      "4310. | 2.9690     0.6931     2.3979          0          0         3 |\n",
      "4311. | 3.0209     0.0000     3.0910          0          0         3 |\n",
      "4312. | 3.1722     0.6931     2.7726          0          0         3 |\n",
      "4313. | 2.8869     0.0000     3.5553          0          0         4 |\n",
      "4314. | 2.7571     0.0000     2.7726          0          0         4 |\n",
      "4315. | 2.6333     1.0986     2.8904          0          0         5 |\n",
      "4316. | 3.0097     0.0000     3.6109          0          0         5 |\n",
      "4317. | 2.7430     0.6931     3.6376          1         .5         6 |\n",
      "4318. | 2.8029     0.6931     3.3322          1         .5         6 |\n",
      "4319. | 2.6563     0.6931     3.8286          1         .5         6 |\n",
      "4320. | 2.7576     0.0000     3.2189          0          0         6 |\n",
      "4321. | 2.7411     0.6931     3.3673          1         .5         6 |\n",
      "4322. | 2.7048     0.6931     3.8501          0          0         7 |\n",
      "      +--------------------------------------------------------------+\n",
      "\n",
      ". \n"
     ]
    }
   ],
   "source": [
    "%%stata\n",
    "sort cluster\n",
    "list FKG log_num_authors log_num_pages both_genders prop_women cluster ///\n",
    "     in 4304/4322, table separator(20)"
   ]
  },
  {
   "cell_type": "markdown",
   "id": "bb50dc15-9d15-4706-93a0-f121d1b0861f",
   "metadata": {},
   "source": [
    "Running a regression with _robust_ standard errors"
   ]
  },
  {
   "cell_type": "code",
   "execution_count": 35,
   "id": "e93ecff0-4ba9-41de-add6-e98962fae783",
   "metadata": {},
   "outputs": [
    {
     "name": "stdout",
     "output_type": "stream",
     "text": [
      "\n"
     ]
    }
   ],
   "source": [
    "%%stata -qui\n",
    "#delimit ;\n",
    "quietly reg FKG log_num_authors  log_num_pages both_genders prop_women\n",
    "\t\t\t`journals' `jel_imp' y_2-y_20  c_2-c_215  jel_flag, robust;\n",
    "matrix subV = (e(V)[1,1], e(V)[1,2], e(V)[1,3], e(V)[1,4], e(V)[1,262] \\ \n",
    "               e(V)[2,1], e(V)[2,2], e(V)[2,3], e(V)[2,4], e(V)[2,262] \\ \n",
    "               e(V)[3,1], e(V)[3,2], e(V)[3,3], e(V)[3,4], e(V)[3,262] \\ \n",
    "               e(V)[4,1], e(V)[4,2], e(V)[4,3], e(V)[4,4], e(V)[4,262] \\ \n",
    "               e(V)[262,1], e(V)[262,2], e(V)[262,3], e(V)[262,4], e(V)[262,262]);\n",
    "#delimit cr"
   ]
  },
  {
   "cell_type": "code",
   "execution_count": 36,
   "id": "f0697876-0955-4f3f-9264-b52b84fb3dec",
   "metadata": {},
   "outputs": [
    {
     "name": "stdout",
     "output_type": "stream",
     "text": [
      "\n",
      "symmetric subV[5,5]\n",
      "            c1          c2          c3          c4          c5\n",
      "r1   .00004124\n",
      "r2  -5.581e-07   .00008565\n",
      "r3  -.00002108   6.834e-07   .00005945\n",
      "r4   .00001795  -3.164e-06  -.00004687   .00012277\n",
      "r5  -.00001192  -.00024072   6.694e-06  -.00001518   .00094301\n"
     ]
    }
   ],
   "source": [
    "%stata matrix list subV"
   ]
  },
  {
   "cell_type": "markdown",
   "id": "25de1faf-83ef-4e14-84ef-28772a93ee3f",
   "metadata": {},
   "source": [
    "Running a regression with _clustered_ standard errors"
   ]
  },
  {
   "cell_type": "code",
   "execution_count": 37,
   "id": "edf4bf80-a583-4100-97e4-3f1afc99c8c2",
   "metadata": {},
   "outputs": [
    {
     "name": "stdout",
     "output_type": "stream",
     "text": [
      "\n"
     ]
    }
   ],
   "source": [
    "%%stata -qui\n",
    "#delimit ;\n",
    "quietly reg FKG log_num_authors  log_num_pages both_genders prop_women\n",
    "\t\t\t`journals' `jel_imp' y_2-y_20  c_2-c_215  jel_flag, vce(cluster cluster);\n",
    "matrix subV = (e(V)[1,1], e(V)[1,2], e(V)[1,3], e(V)[1,4], e(V)[1,262] \\ \n",
    "               e(V)[2,1], e(V)[2,2], e(V)[2,3], e(V)[2,4], e(V)[2,262] \\ \n",
    "               e(V)[3,1], e(V)[3,2], e(V)[3,3], e(V)[3,4], e(V)[3,262] \\ \n",
    "               e(V)[4,1], e(V)[4,2], e(V)[4,3], e(V)[4,4], e(V)[4,262] \\ \n",
    "               e(V)[262,1], e(V)[262,2], e(V)[262,3], e(V)[262,4], e(V)[262,262]);\n",
    "#delimit cr"
   ]
  },
  {
   "cell_type": "code",
   "execution_count": 38,
   "id": "70873538-cb92-4d8b-af1c-196ef04cef5c",
   "metadata": {},
   "outputs": [
    {
     "name": "stdout",
     "output_type": "stream",
     "text": [
      "\n",
      "symmetric subV[5,5]\n",
      "            c1          c2          c3          c4          c5\n",
      "r1   9.060e-06\n",
      "r2  -8.519e-06   .00002404\n",
      "r3   2.477e-06  -6.822e-06   .00001387\n",
      "r4    .0000112  -.00001846   4.846e-06   .00003052\n",
      "r5   7.021e-06  -.00003724  -.00002375   5.046e-06   .00025906\n"
     ]
    }
   ],
   "source": [
    "%stata matrix list subV"
   ]
  }
 ],
 "metadata": {
  "kernelspec": {
   "display_name": "Python 3 (ipykernel)",
   "language": "python",
   "name": "python3"
  },
  "language_info": {
   "codemirror_mode": {
    "name": "ipython",
    "version": 3
   },
   "file_extension": ".py",
   "mimetype": "text/x-python",
   "name": "python",
   "nbconvert_exporter": "python",
   "pygments_lexer": "ipython3",
   "version": "3.11.0"
  }
 },
 "nbformat": 4,
 "nbformat_minor": 5
}
