{
 "cells": [
  {
   "cell_type": "code",
   "execution_count": 1,
   "metadata": {},
   "outputs": [],
   "source": [
    "%%capture\n",
    "import stata_setup, os\n",
    "if os.name == 'nt':\n",
    "    stata_setup.config('C:/Program Files/Stata17/','mp')\n",
    "else:\n",
    "    stata_setup.config('/usr/local/stata17','mp')"
   ]
  },
  {
   "cell_type": "code",
   "execution_count": 2,
   "metadata": {},
   "outputs": [
    {
     "name": "stdout",
     "output_type": "stream",
     "text": [
      "\n"
     ]
    }
   ],
   "source": [
    "%%stata -qui\n",
    "\n",
    "use \"../data/data\", clear\n",
    "rename log_flesch_kincaid_grade_level FKG\n",
    "quietly tabulate year, generate(y_)\n",
    "quietly tabulate cluster, generate(c_)\n",
    "\n",
    "local journals  ecm jpe qje res  //AER based category\n",
    "\n",
    "local jel_imp a_imp b_imp c_imp  e_imp f_imp g_imp h_imp i_imp j_imp k_imp /// \n",
    "\t\tl_imp m_imp n_imp o_imp p_imp q_imp r_imp y_imp z_imp // D JEL based case"
   ]
  },
  {
   "cell_type": "markdown",
   "metadata": {
    "tags": []
   },
   "source": [
    "## Poisson Regression"
   ]
  },
  {
   "cell_type": "markdown",
   "metadata": {},
   "source": [
    "We are interested in modelling the number of sentences in an abstract in excess of 3 (5\\% of articles have at most 3 sentences), i.e., our model is\n",
    "$$\n",
    "\\mathbb{E}[\\texttt{Excess Sentences}|\\texttt{log(Number authors)},\\texttt{log(Number pages)},\\texttt{Both genders},\\texttt{Proportion women}]\\\\\\\n",
    "= \\exp{\\left(\\beta_1\\log(\\text{Number authors})+\\beta_2\\log(\\text{Number pages})+\\beta_3\\texttt{Both genders}+\\theta\\texttt{Proportion women}\\right.}\\\\\\\n",
    "\\left.+\\texttt{Journals}+\\texttt{JEL codes}+\\texttt{Cluster}+\\texttt{Years}+\\texttt{JEL flag}+\\beta_{272}\\right)\n",
    "$$"
   ]
  },
  {
   "cell_type": "code",
   "execution_count": 3,
   "metadata": {},
   "outputs": [
    {
     "name": "stdout",
     "output_type": "stream",
     "text": [
      "\n"
     ]
    }
   ],
   "source": [
    "%%stata -qui\n",
    "summarize num_sentences, detail\n",
    "local cutoff_sentences = r(p5)\n",
    "gen int excess_sentences = num_sentences - `cutoff_sentences'\n",
    "replace excess_sentences = 0 if excess_sentences < 0"
   ]
  },
  {
   "cell_type": "code",
   "execution_count": 4,
   "metadata": {},
   "outputs": [
    {
     "name": "stdout",
     "output_type": "stream",
     "text": [
      "\n",
      ". set scheme gg_jet\n",
      "\n",
      ". histogram excess_sentences, discrete freq width(1) xtitle(\"Number of Sentence\n",
      "> s in Excess of 3\")\n",
      "(start=0, width=1)\n",
      "\n",
      ". \n"
     ]
    },
    {
     "data": {
      "image/svg+xml": [
       "<svg xmlns=\"http://www.w3.org/2000/svg\" xmlns:xlink=\"http://www.w3.org/1999/xlink\" version=\"1.1\" width=\"6.000in\" height=\"4.000in\" viewBox=\"0 0 4320 2880\">\n",
       "\t<desc>Stata Graph - Graph</desc>\n",
       "\t<rect x=\"0\" y=\"0\" width=\"4320\" height=\"2880\" style=\"fill:#FFFFFF;stroke:none\"/>\n",
       "\t<rect x=\"0.00\" y=\"0.00\" width=\"4320.00\" height=\"2880.00\" style=\"fill:#FFFFFF\"/>\n",
       "\t<rect x=\"2.88\" y=\"2.88\" width=\"4314.24\" height=\"2874.24\" style=\"fill:none;stroke:#FFFFFF;stroke-width:5.76\"/>\n",
       "\t<rect x=\"545.67\" y=\"100.85\" width=\"3673.48\" height=\"2359.30\" style=\"fill:#E0E0E0\"/>\n",
       "\t<rect x=\"548.55\" y=\"103.73\" width=\"3667.73\" height=\"2353.54\" style=\"fill:none;stroke:#FFFFFF;stroke-opacity:0.00;stroke-width:5.76\"/>\n",
       "\t<line x1=\"545.67\" y1=\"2460.14\" x2=\"4219.16\" y2=\"2460.14\" style=\"stroke:#FFFFFF;stroke-width:8.64\"/>\n",
       "\t<line x1=\"545.67\" y1=\"1694.82\" x2=\"4219.16\" y2=\"1694.82\" style=\"stroke:#FFFFFF;stroke-width:8.64\"/>\n",
       "\t<line x1=\"545.67\" y1=\"929.49\" x2=\"4219.16\" y2=\"929.49\" style=\"stroke:#FFFFFF;stroke-width:8.64\"/>\n",
       "\t<line x1=\"545.67\" y1=\"164.16\" x2=\"4219.16\" y2=\"164.16\" style=\"stroke:#FFFFFF;stroke-width:8.64\"/>\n",
       "\t<line x1=\"766.67\" y1=\"2460.14\" x2=\"766.67\" y2=\"100.85\" style=\"stroke:#FFFFFF;stroke-width:8.64\"/>\n",
       "\t<line x1=\"1554.80\" y1=\"2460.14\" x2=\"1554.80\" y2=\"100.85\" style=\"stroke:#FFFFFF;stroke-width:8.64\"/>\n",
       "\t<line x1=\"2342.93\" y1=\"2460.14\" x2=\"2342.93\" y2=\"100.85\" style=\"stroke:#FFFFFF;stroke-width:8.64\"/>\n",
       "\t<line x1=\"3131.19\" y1=\"2460.14\" x2=\"3131.19\" y2=\"100.85\" style=\"stroke:#FFFFFF;stroke-width:8.64\"/>\n",
       "\t<line x1=\"3919.32\" y1=\"2460.14\" x2=\"3919.32\" y2=\"100.85\" style=\"stroke:#FFFFFF;stroke-width:8.64\"/>\n",
       "\t<rect x=\"687.83\" y=\"1733.02\" width=\"157.54\" height=\"727.12\" style=\"fill:#333399\"/>\n",
       "\t<rect x=\"689.98\" y=\"1735.18\" width=\"153.23\" height=\"722.80\" style=\"fill:none;stroke:#000000;stroke-width:4.32\"/>\n",
       "\t<rect x=\"845.37\" y=\"813.12\" width=\"157.68\" height=\"1647.03\" style=\"fill:#333399\"/>\n",
       "\t<rect x=\"847.53\" y=\"815.28\" width=\"153.36\" height=\"1642.71\" style=\"fill:none;stroke:#000000;stroke-width:4.32\"/>\n",
       "\t<rect x=\"1003.05\" y=\"459.55\" width=\"157.68\" height=\"2000.60\" style=\"fill:#333399\"/>\n",
       "\t<rect x=\"1005.21\" y=\"461.71\" width=\"153.36\" height=\"1996.28\" style=\"fill:none;stroke:#000000;stroke-width:4.32\"/>\n",
       "\t<rect x=\"1160.73\" y=\"1013.73\" width=\"157.68\" height=\"1446.41\" style=\"fill:#333399\"/>\n",
       "\t<rect x=\"1162.89\" y=\"1015.89\" width=\"153.36\" height=\"1442.09\" style=\"fill:none;stroke:#000000;stroke-width:4.32\"/>\n",
       "\t<rect x=\"1318.41\" y=\"1603.02\" width=\"157.54\" height=\"857.13\" style=\"fill:#333399\"/>\n",
       "\t<rect x=\"1320.57\" y=\"1605.18\" width=\"153.23\" height=\"852.81\" style=\"fill:none;stroke:#000000;stroke-width:4.32\"/>\n",
       "\t<rect x=\"1475.96\" y=\"1958.07\" width=\"157.68\" height=\"502.07\" style=\"fill:#333399\"/>\n",
       "\t<rect x=\"1478.11\" y=\"1960.23\" width=\"153.36\" height=\"497.75\" style=\"fill:none;stroke:#000000;stroke-width:4.32\"/>\n",
       "\t<rect x=\"1633.64\" y=\"2248.87\" width=\"157.68\" height=\"211.28\" style=\"fill:#333399\"/>\n",
       "\t<rect x=\"1635.79\" y=\"2251.03\" width=\"153.36\" height=\"206.96\" style=\"fill:none;stroke:#000000;stroke-width:4.32\"/>\n",
       "\t<rect x=\"1791.32\" y=\"2351.47\" width=\"157.54\" height=\"108.68\" style=\"fill:#333399\"/>\n",
       "\t<rect x=\"1793.47\" y=\"2353.63\" width=\"153.23\" height=\"104.36\" style=\"fill:none;stroke:#000000;stroke-width:4.32\"/>\n",
       "\t<rect x=\"1948.86\" y=\"2406.55\" width=\"157.68\" height=\"53.60\" style=\"fill:#333399\"/>\n",
       "\t<rect x=\"1951.02\" y=\"2408.71\" width=\"153.36\" height=\"49.28\" style=\"fill:none;stroke:#000000;stroke-width:4.32\"/>\n",
       "\t<rect x=\"2106.54\" y=\"2417.21\" width=\"157.68\" height=\"42.93\" style=\"fill:#333399\"/>\n",
       "\t<rect x=\"2108.70\" y=\"2419.37\" width=\"153.36\" height=\"38.61\" style=\"fill:none;stroke:#000000;stroke-width:4.32\"/>\n",
       "\t<rect x=\"2264.22\" y=\"2443.27\" width=\"157.55\" height=\"16.88\" style=\"fill:#333399\"/>\n",
       "\t<rect x=\"2266.38\" y=\"2445.43\" width=\"153.23\" height=\"12.56\" style=\"fill:none;stroke:#000000;stroke-width:4.32\"/>\n",
       "\t<rect x=\"2421.77\" y=\"2452.45\" width=\"157.68\" height=\"7.70\" style=\"fill:#333399\"/>\n",
       "\t<rect x=\"2423.92\" y=\"2454.61\" width=\"153.36\" height=\"3.38\" style=\"fill:none;stroke:#000000;stroke-width:4.32\"/>\n",
       "\t<rect x=\"2579.45\" y=\"2457.04\" width=\"157.68\" height=\"3.11\" style=\"fill:#333399\"/>\n",
       "\t<rect x=\"2581.60\" y=\"2457.98\" width=\"153.36\" height=\"1.21\" style=\"fill:none;stroke:#000000;stroke-width:4.32\"/>\n",
       "\t<rect x=\"2737.13\" y=\"2458.66\" width=\"157.55\" height=\"1.49\" style=\"fill:#333399\"/>\n",
       "\t<rect x=\"2739.28\" y=\"2457.98\" width=\"153.23\" height=\"2.83\" style=\"fill:none;stroke:#000000;stroke-width:4.32\"/>\n",
       "\t<rect x=\"2894.67\" y=\"2458.66\" width=\"157.68\" height=\"1.49\" style=\"fill:#333399\"/>\n",
       "\t<rect x=\"2896.83\" y=\"2457.98\" width=\"153.36\" height=\"2.83\" style=\"fill:none;stroke:#000000;stroke-width:4.32\"/>\n",
       "\t<rect x=\"3052.35\" y=\"2457.04\" width=\"157.68\" height=\"3.11\" style=\"fill:#333399\"/>\n",
       "\t<rect x=\"3054.51\" y=\"2457.98\" width=\"153.36\" height=\"1.21\" style=\"fill:none;stroke:#000000;stroke-width:4.32\"/>\n",
       "\t<rect x=\"3210.03\" y=\"2458.66\" width=\"157.54\" height=\"1.49\" style=\"fill:#333399\"/>\n",
       "\t<rect x=\"3212.19\" y=\"2457.98\" width=\"153.23\" height=\"2.83\" style=\"fill:none;stroke:#000000;stroke-width:4.32\"/>\n",
       "\t<rect x=\"3525.26\" y=\"2458.66\" width=\"157.68\" height=\"1.49\" style=\"fill:#333399\"/>\n",
       "\t<rect x=\"3527.41\" y=\"2457.98\" width=\"153.36\" height=\"2.83\" style=\"fill:none;stroke:#000000;stroke-width:4.32\"/>\n",
       "\t<rect x=\"3998.16\" y=\"2458.66\" width=\"157.68\" height=\"1.49\" style=\"fill:#333399\"/>\n",
       "\t<rect x=\"4000.32\" y=\"2457.98\" width=\"153.36\" height=\"2.83\" style=\"fill:none;stroke:#000000;stroke-width:4.32\"/>\n",
       "\t<line x1=\"545.67\" y1=\"2460.14\" x2=\"505.58\" y2=\"2460.14\" style=\"stroke:#404040;stroke-width:8.64\"/>\n",
       "\t<text x=\"485.60\" y=\"2488.15\" style=\"font-family:'Helvetica';font-size:79.92px;fill:#000000\" text-anchor=\"end\">0</text>\n",
       "\t<line x1=\"545.67\" y1=\"1694.82\" x2=\"505.58\" y2=\"1694.82\" style=\"stroke:#404040;stroke-width:8.64\"/>\n",
       "\t<text x=\"485.60\" y=\"1722.82\" style=\"font-family:'Helvetica';font-size:79.92px;fill:#000000\" text-anchor=\"end\">500</text>\n",
       "\t<line x1=\"545.67\" y1=\"929.49\" x2=\"505.58\" y2=\"929.49\" style=\"stroke:#404040;stroke-width:8.64\"/>\n",
       "\t<text x=\"485.60\" y=\"957.50\" style=\"font-family:'Helvetica';font-size:79.92px;fill:#000000\" text-anchor=\"end\">1000</text>\n",
       "\t<line x1=\"545.67\" y1=\"164.16\" x2=\"505.58\" y2=\"164.16\" style=\"stroke:#404040;stroke-width:8.64\"/>\n",
       "\t<text x=\"485.60\" y=\"192.17\" style=\"font-family:'Helvetica';font-size:79.92px;fill:#000000\" text-anchor=\"end\">1500</text>\n",
       "\t<text x=\"211.26\" y=\"1280.50\" style=\"font-family:'Helvetica';font-size:79.92px;fill:#000000\" transform=\"rotate(-90 211.26,1280.50)\" text-anchor=\"middle\">Frequency</text>\n",
       "\t<line x1=\"766.67\" y1=\"2460.14\" x2=\"766.67\" y2=\"2500.10\" style=\"stroke:#404040;stroke-width:8.64\"/>\n",
       "\t<text x=\"766.67\" y=\"2575.96\" style=\"font-family:'Helvetica';font-size:79.92px;fill:#000000\" text-anchor=\"middle\">0</text>\n",
       "\t<line x1=\"1554.80\" y1=\"2460.14\" x2=\"1554.80\" y2=\"2500.10\" style=\"stroke:#404040;stroke-width:8.64\"/>\n",
       "\t<text x=\"1554.80\" y=\"2575.96\" style=\"font-family:'Helvetica';font-size:79.92px;fill:#000000\" text-anchor=\"middle\">5</text>\n",
       "\t<line x1=\"2342.93\" y1=\"2460.14\" x2=\"2342.93\" y2=\"2500.10\" style=\"stroke:#404040;stroke-width:8.64\"/>\n",
       "\t<text x=\"2342.93\" y=\"2575.96\" style=\"font-family:'Helvetica';font-size:79.92px;fill:#000000\" text-anchor=\"middle\">10</text>\n",
       "\t<line x1=\"3131.19\" y1=\"2460.14\" x2=\"3131.19\" y2=\"2500.10\" style=\"stroke:#404040;stroke-width:8.64\"/>\n",
       "\t<text x=\"3131.19\" y=\"2575.96\" style=\"font-family:'Helvetica';font-size:79.92px;fill:#000000\" text-anchor=\"middle\">15</text>\n",
       "\t<line x1=\"3919.32\" y1=\"2460.14\" x2=\"3919.32\" y2=\"2500.10\" style=\"stroke:#404040;stroke-width:8.64\"/>\n",
       "\t<text x=\"3919.32\" y=\"2575.96\" style=\"font-family:'Helvetica';font-size:79.92px;fill:#000000\" text-anchor=\"middle\">20</text>\n",
       "\t<text x=\"2382.34\" y=\"2700.57\" style=\"font-family:'Helvetica';font-size:79.92px;fill:#000000\" text-anchor=\"middle\">Number of Sentences in Excess of 3</text>\n",
       "</svg>"
      ],
      "text/plain": [
       "<IPython.core.display.SVG object>"
      ]
     },
     "metadata": {},
     "output_type": "display_data"
    }
   ],
   "source": [
    "%%stata\n",
    "set scheme gg_jet\n",
    "histogram excess_sentences, discrete freq width(1) xtitle(\"Number of Sentences in Excess of 3\")"
   ]
  },
  {
   "cell_type": "code",
   "execution_count": 5,
   "metadata": {},
   "outputs": [
    {
     "name": "stdout",
     "output_type": "stream",
     "text": [
      "\n"
     ]
    }
   ],
   "source": [
    "%%stata -qui\n",
    "#delimit ;\n",
    "poisson excess_sentences log_num_authors log_num_pages both_genders prop_women\n",
    "\t\t\t          `journals' `jel_imp' y_2-y_20  c_2-c_215  jel_flag, vce(cluster cluster);\n",
    "#delimit cr"
   ]
  },
  {
   "cell_type": "code",
   "execution_count": 6,
   "metadata": {},
   "outputs": [
    {
     "name": "stdout",
     "output_type": "stream",
     "text": [
      "\n",
      "-----------------------------------------------------------------\n",
      "                                          Variable |   Active    \n",
      "---------------------------------------------------+-------------\n",
      "                Logarithm of the number of authors | -0.0118     \n",
      "                  Logarithm of the number of pages |  0.4093***  \n",
      "    Indicator if author team includes both genders |  0.0004     \n",
      "             Proportion of women among the authors |  0.0416*    \n",
      "Indicator of whether the article includes a JEL cl |  0.0349*    \n",
      "-----------------------------------------------------------------\n",
      "                         Legend: * p<0.05; ** p<0.01; *** p<0.001\n"
     ]
    }
   ],
   "source": [
    "%%stata\n",
    "estimates table, keep(log_num_authors log_num_pages both_genders prop_women jel_flag) b(%5.4f) star varwidth(50) varlabel"
   ]
  },
  {
   "cell_type": "code",
   "execution_count": 7,
   "metadata": {},
   "outputs": [
    {
     "name": "stdout",
     "output_type": "stream",
     "text": [
      "\n",
      "       _nl_1: _b[log_num_pages]\n",
      "       _nl_2: 100*_b[prop_women]\n",
      "       _nl_3: 100*(exp(_b[jel_flag])-1)\n",
      "\n",
      "------------------------------------------------------------------------------\n",
      "excess_sen~s | Coefficient  Std. err.      z    P>|z|     [95% conf. interval]\n",
      "-------------+----------------------------------------------------------------\n",
      "       _nl_1 |   .4093298   .0162724    25.15   0.000     .3774364    .4412231\n",
      "       _nl_2 |   4.157834   2.077484     2.00   0.045     .0860391    8.229628\n",
      "       _nl_3 |    3.54721   1.444164     2.46   0.014     .7166994     6.37772\n",
      "------------------------------------------------------------------------------\n"
     ]
    }
   ],
   "source": [
    "%%stata\n",
    "nlcom (_b[log_num_pages]) (100*_b[prop_women]) (100*(exp(_b[jel_flag])-1))"
   ]
  },
  {
   "cell_type": "markdown",
   "metadata": {},
   "source": [
    "Other factors equal:\n",
    "* The _elasticity_ of the expected number of sentences in excess of 3 for an article's abstract with respect to the article's number of pages is 0.41.\n",
    "* If an article's authors are all women (```prop_women``` goes from 0 to 1), the abstract's expected number of sentences in excess of 3 increase by 4.16\\%.\n",
    "* The expected number of sentences in excess of 3 for an article's abstract is roughly 3.55\\% higher when the JEL is imputed ceteris paribus."
   ]
  },
  {
   "cell_type": "markdown",
   "metadata": {
    "jp-MarkdownHeadingCollapsed": true,
    "tags": []
   },
   "source": [
    "## High-Dimensional Fixed Effects"
   ]
  },
  {
   "cell_type": "code",
   "execution_count": 8,
   "metadata": {},
   "outputs": [
    {
     "name": "stdout",
     "output_type": "stream",
     "text": [
      "\n"
     ]
    }
   ],
   "source": [
    "%%stata -qui\n",
    "egen journal1 = group(journal)\n",
    "#delimit ;\n",
    "ppmlhdfe excess_sentences log_num_authors log_num_pages both_genders prop_women,\n",
    "                          absorb(journal1 a_imp b_imp c_imp  e_imp f_imp g_imp h_imp\n",
    "                                i_imp j_imp k_imp l_imp m_imp n_imp o_imp p_imp q_imp r_imp y_imp z_imp\n",
    "                                year ib0.cluster jel_flag) vce(cluster cluster);\n",
    "#delimit cr"
   ]
  },
  {
   "cell_type": "code",
   "execution_count": 9,
   "metadata": {},
   "outputs": [
    {
     "name": "stdout",
     "output_type": "stream",
     "text": [
      "\n",
      ". #delimit ;\n",
      "delimiter now ;\n",
      ". estimates table, keep(log_num_authors log_num_pages both_genders prop_women)\n",
      ">                  b(%5.4f) star varwidth(50) varlabel;\n",
      "\n",
      "-----------------------------------------------------------------\n",
      "                                          Variable |   Active    \n",
      "---------------------------------------------------+-------------\n",
      "                Logarithm of the number of authors | -0.0118     \n",
      "                  Logarithm of the number of pages |  0.4093***  \n",
      "    Indicator if author team includes both genders |  0.0004     \n",
      "             Proportion of women among the authors |  0.0416*    \n",
      "-----------------------------------------------------------------\n",
      "                         Legend: * p<0.05; ** p<0.01; *** p<0.001\n",
      "\n",
      ". #delimit cr\n",
      "delimiter now cr\n",
      ". \n"
     ]
    }
   ],
   "source": [
    "%%stata\n",
    "#delimit ;\n",
    "estimates table, keep(log_num_authors log_num_pages both_genders prop_women)\n",
    "                 b(%5.4f) star varwidth(50) varlabel;\n",
    "#delimit cr"
   ]
  },
  {
   "cell_type": "markdown",
   "metadata": {
    "jp-MarkdownHeadingCollapsed": true,
    "tags": []
   },
   "source": [
    "## Specification Curve Analysis"
   ]
  },
  {
   "cell_type": "markdown",
   "metadata": {},
   "source": [
    "Clearing the data set in memory, reloading, and creating the ```journal1``` variable"
   ]
  },
  {
   "cell_type": "code",
   "execution_count": 10,
   "metadata": {},
   "outputs": [
    {
     "name": "stdout",
     "output_type": "stream",
     "text": [
      "\n"
     ]
    }
   ],
   "source": [
    "%%stata -qui\n",
    "\n",
    "clear all\n",
    "use \"../data/data\", clear\n",
    "egen journal1 = group(journal)\n",
    "\n",
    "summarize num_sentences, detail\n",
    "local cutoff_sentences = r(p5)\n",
    "gen int excess_sentences = num_sentences - `cutoff_sentences'\n",
    "replace excess_sentences = 0 if excess_sentences < 0"
   ]
  },
  {
   "cell_type": "markdown",
   "metadata": {},
   "source": [
    "Commenting out the ```- log(F-K grade): log_flesch_kincaid_grade_level``` line in the ```.yml``` file."
   ]
  },
  {
   "cell_type": "code",
   "execution_count": 11,
   "metadata": {},
   "outputs": [
    {
     "name": "stdout",
     "output_type": "stream",
     "text": [
      "Line commented successfully!\n"
     ]
    }
   ],
   "source": [
    "import yaml\n",
    "\n",
    "# File name\n",
    "file_path = '../code/readability_graph_specurve.yml'\n",
    "\n",
    "# Read, modify, and save the file\n",
    "with open(file_path, 'r') as file:\n",
    "    lines = file.readlines()\n",
    "\n",
    "# Modify the target line\n",
    "modified_lines = []\n",
    "for line in lines:\n",
    "    if line.strip() == \"- log(F-K grade): log_flesch_kincaid_grade_level\":\n",
    "        modified_lines.append(f\"#     {line}\")  # Comment out the line\n",
    "    else:\n",
    "        modified_lines.append(line)\n",
    "\n",
    "# Write the modified content back to the file\n",
    "with open(file_path, 'w') as file:\n",
    "    file.writelines(modified_lines)\n",
    "\n",
    "print(\"Line commented successfully!\")"
   ]
  },
  {
   "cell_type": "code",
   "execution_count": 12,
   "metadata": {},
   "outputs": [
    {
     "name": "stdout",
     "output_type": "stream",
     "text": [
      "Line uncommented successfully if it was commented!\n"
     ]
    }
   ],
   "source": [
    "# File name\n",
    "file_path = '../code/readability_graph_specurve.yml'\n",
    "\n",
    "# Read, modify, and save the file\n",
    "with open(file_path, 'r') as file:\n",
    "    lines = file.readlines()\n",
    "\n",
    "# Modify the target line\n",
    "modified_lines = []\n",
    "for line in lines:\n",
    "    stripped_line = line.strip()\n",
    "    if stripped_line.startswith(\"#     - Excess Sentences: excess_sentences\"):\n",
    "        # Uncomment the line\n",
    "        modified_lines.append(line.replace(\"#     -\", \"-\"))  # Replace `#-` with `-`\n",
    "    else:\n",
    "        modified_lines.append(line)\n",
    "\n",
    "# Write the modified content back to the file\n",
    "with open(file_path, 'w') as file:\n",
    "    file.writelines(modified_lines)\n",
    "\n",
    "print(\"Line uncommented successfully if it was commented!\")"
   ]
  },
  {
   "cell_type": "markdown",
   "metadata": {},
   "source": [
    "Creating the specification curve by concentratng on the effect of ```prop_women``` on the count outcome variable ```excess_sentences```, by always controlling for the following regressors: ```both_genders```, ```log_num_authors```, ```log_num_pages```, and ```jel_flag```."
   ]
  },
  {
   "cell_type": "code",
   "execution_count": 13,
   "metadata": {},
   "outputs": [
    {
     "name": "stdout",
     "output_type": "stream",
     "text": [
      "\n",
      ". #delimit ;\n",
      "delimiter now ;\n",
      ". quietly specurve using \"readability_graph_specurve.yml\", cmd(ppmlhdfe)\n",
      ">         desc noci99 width(8) height(10) relativesize(0.4)\n",
      ">         scale(0.7) title(\"Specification Curve Analsyis of Proportion of Women\n",
      "> \");\n",
      "\n",
      ". #delimit crs\n",
      "delimiter now ;\n",
      ". \n"
     ]
    },
    {
     "data": {
      "image/svg+xml": [
       "<svg xmlns=\"http://www.w3.org/2000/svg\" xmlns:xlink=\"http://www.w3.org/1999/xlink\" version=\"1.1\" width=\"8.000in\" height=\"10.000in\" viewBox=\"0 0 5760 7200\">\n",
       "\t<desc>Stata Graph - Graph</desc>\n",
       "\t<rect x=\"0\" y=\"0\" width=\"5760\" height=\"7200\" style=\"fill:#FFFFFF;stroke:none\"/>\n",
       "\t<rect x=\"0.00\" y=\"0.00\" width=\"5760.00\" height=\"7200.00\" style=\"fill:#FFFFFF\"/>\n",
       "\t<rect x=\"5.76\" y=\"5.76\" width=\"5748.48\" height=\"7188.48\" style=\"fill:none;stroke:#FFFFFF;stroke-width:11.52\"/>\n",
       "\t<rect x=\"1132.20\" y=\"1030.95\" width=\"4426.20\" height=\"5785.43\" style=\"fill:#FFFFFF\"/>\n",
       "\t<rect x=\"1136.23\" y=\"1034.98\" width=\"4418.14\" height=\"5777.36\" style=\"fill:none;stroke:#FFFFFF;stroke-width:8.06\"/>\n",
       "\t<line x1=\"1362.38\" y1=\"6816.38\" x2=\"1362.38\" y2=\"1030.95\" style=\"stroke:#FFFFFF;stroke-width:12.10\"/>\n",
       "\t<line x1=\"5328.00\" y1=\"6816.38\" x2=\"5328.00\" y2=\"1030.95\" style=\"stroke:#FFFFFF;stroke-width:12.10\"/>\n",
       "\t<line x1=\"1132.20\" y1=\"3219.08\" x2=\"1178.33\" y2=\"3219.08\" style=\"stroke:#FFFFFF;stroke-width:10.08\"/>\n",
       "\t<line x1=\"1218.60\" y1=\"3219.08\" x2=\"1264.72\" y2=\"3219.08\" style=\"stroke:#FFFFFF;stroke-width:10.08\"/>\n",
       "\t<line x1=\"1305.00\" y1=\"3219.08\" x2=\"1351.13\" y2=\"3219.08\" style=\"stroke:#FFFFFF;stroke-width:10.08\"/>\n",
       "\t<line x1=\"1391.40\" y1=\"3219.08\" x2=\"1437.53\" y2=\"3219.08\" style=\"stroke:#FFFFFF;stroke-width:10.08\"/>\n",
       "\t<line x1=\"1477.80\" y1=\"3219.08\" x2=\"1523.93\" y2=\"3219.08\" style=\"stroke:#FFFFFF;stroke-width:10.08\"/>\n",
       "\t<line x1=\"1564.20\" y1=\"3219.08\" x2=\"1610.33\" y2=\"3219.08\" style=\"stroke:#FFFFFF;stroke-width:10.08\"/>\n",
       "\t<line x1=\"1650.60\" y1=\"3219.08\" x2=\"1696.73\" y2=\"3219.08\" style=\"stroke:#FFFFFF;stroke-width:10.08\"/>\n",
       "\t<line x1=\"1737.00\" y1=\"3219.08\" x2=\"1783.13\" y2=\"3219.08\" style=\"stroke:#FFFFFF;stroke-width:10.08\"/>\n",
       "\t<line x1=\"1823.40\" y1=\"3219.08\" x2=\"1869.53\" y2=\"3219.08\" style=\"stroke:#FFFFFF;stroke-width:10.08\"/>\n",
       "\t<line x1=\"1909.80\" y1=\"3219.08\" x2=\"1955.93\" y2=\"3219.08\" style=\"stroke:#FFFFFF;stroke-width:10.08\"/>\n",
       "\t<line x1=\"1996.20\" y1=\"3219.08\" x2=\"2042.33\" y2=\"3219.08\" style=\"stroke:#FFFFFF;stroke-width:10.08\"/>\n",
       "\t<line x1=\"2082.60\" y1=\"3219.08\" x2=\"2128.73\" y2=\"3219.08\" style=\"stroke:#FFFFFF;stroke-width:10.08\"/>\n",
       "\t<line x1=\"2169.00\" y1=\"3219.08\" x2=\"2215.13\" y2=\"3219.08\" style=\"stroke:#FFFFFF;stroke-width:10.08\"/>\n",
       "\t<line x1=\"2255.40\" y1=\"3219.08\" x2=\"2301.53\" y2=\"3219.08\" style=\"stroke:#FFFFFF;stroke-width:10.08\"/>\n",
       "\t<line x1=\"2341.80\" y1=\"3219.08\" x2=\"2387.93\" y2=\"3219.08\" style=\"stroke:#FFFFFF;stroke-width:10.08\"/>\n",
       "\t<line x1=\"2428.20\" y1=\"3219.08\" x2=\"2474.32\" y2=\"3219.08\" style=\"stroke:#FFFFFF;stroke-width:10.08\"/>\n",
       "\t<line x1=\"2514.60\" y1=\"3219.08\" x2=\"2560.73\" y2=\"3219.08\" style=\"stroke:#FFFFFF;stroke-width:10.08\"/>\n",
       "\t<line x1=\"2601.00\" y1=\"3219.08\" x2=\"2647.13\" y2=\"3219.08\" style=\"stroke:#FFFFFF;stroke-width:10.08\"/>\n",
       "\t<line x1=\"2687.40\" y1=\"3219.08\" x2=\"2733.53\" y2=\"3219.08\" style=\"stroke:#FFFFFF;stroke-width:10.08\"/>\n",
       "\t<line x1=\"2773.80\" y1=\"3219.08\" x2=\"2819.93\" y2=\"3219.08\" style=\"stroke:#FFFFFF;stroke-width:10.08\"/>\n",
       "\t<line x1=\"2860.20\" y1=\"3219.08\" x2=\"2906.33\" y2=\"3219.08\" style=\"stroke:#FFFFFF;stroke-width:10.08\"/>\n",
       "\t<line x1=\"2946.60\" y1=\"3219.08\" x2=\"2992.73\" y2=\"3219.08\" style=\"stroke:#FFFFFF;stroke-width:10.08\"/>\n",
       "\t<line x1=\"3033.00\" y1=\"3219.08\" x2=\"3079.13\" y2=\"3219.08\" style=\"stroke:#FFFFFF;stroke-width:10.08\"/>\n",
       "\t<line x1=\"3119.40\" y1=\"3219.08\" x2=\"3165.53\" y2=\"3219.08\" style=\"stroke:#FFFFFF;stroke-width:10.08\"/>\n",
       "\t<line x1=\"3205.80\" y1=\"3219.08\" x2=\"3251.93\" y2=\"3219.08\" style=\"stroke:#FFFFFF;stroke-width:10.08\"/>\n",
       "\t<line x1=\"3292.20\" y1=\"3219.08\" x2=\"3338.33\" y2=\"3219.08\" style=\"stroke:#FFFFFF;stroke-width:10.08\"/>\n",
       "\t<line x1=\"3378.60\" y1=\"3219.08\" x2=\"3424.73\" y2=\"3219.08\" style=\"stroke:#FFFFFF;stroke-width:10.08\"/>\n",
       "\t<line x1=\"3465.00\" y1=\"3219.08\" x2=\"3511.13\" y2=\"3219.08\" style=\"stroke:#FFFFFF;stroke-width:10.08\"/>\n",
       "\t<line x1=\"3551.40\" y1=\"3219.08\" x2=\"3597.53\" y2=\"3219.08\" style=\"stroke:#FFFFFF;stroke-width:10.08\"/>\n",
       "\t<line x1=\"3637.80\" y1=\"3219.08\" x2=\"3683.93\" y2=\"3219.08\" style=\"stroke:#FFFFFF;stroke-width:10.08\"/>\n",
       "\t<line x1=\"3724.20\" y1=\"3219.08\" x2=\"3770.33\" y2=\"3219.08\" style=\"stroke:#FFFFFF;stroke-width:10.08\"/>\n",
       "\t<line x1=\"3810.60\" y1=\"3219.08\" x2=\"3856.73\" y2=\"3219.08\" style=\"stroke:#FFFFFF;stroke-width:10.08\"/>\n",
       "\t<line x1=\"3897.00\" y1=\"3219.08\" x2=\"3943.13\" y2=\"3219.08\" style=\"stroke:#FFFFFF;stroke-width:10.08\"/>\n",
       "\t<line x1=\"3983.40\" y1=\"3219.08\" x2=\"4029.53\" y2=\"3219.08\" style=\"stroke:#FFFFFF;stroke-width:10.08\"/>\n",
       "\t<line x1=\"4069.80\" y1=\"3219.08\" x2=\"4115.93\" y2=\"3219.08\" style=\"stroke:#FFFFFF;stroke-width:10.08\"/>\n",
       "\t<line x1=\"4156.20\" y1=\"3219.08\" x2=\"4202.33\" y2=\"3219.08\" style=\"stroke:#FFFFFF;stroke-width:10.08\"/>\n",
       "\t<line x1=\"4242.60\" y1=\"3219.08\" x2=\"4288.73\" y2=\"3219.08\" style=\"stroke:#FFFFFF;stroke-width:10.08\"/>\n",
       "\t<line x1=\"4329.00\" y1=\"3219.08\" x2=\"4375.13\" y2=\"3219.08\" style=\"stroke:#FFFFFF;stroke-width:10.08\"/>\n",
       "\t<line x1=\"4415.40\" y1=\"3219.08\" x2=\"4461.52\" y2=\"3219.08\" style=\"stroke:#FFFFFF;stroke-width:10.08\"/>\n",
       "\t<line x1=\"4501.80\" y1=\"3219.08\" x2=\"4547.93\" y2=\"3219.08\" style=\"stroke:#FFFFFF;stroke-width:10.08\"/>\n",
       "\t<line x1=\"4588.20\" y1=\"3219.08\" x2=\"4634.33\" y2=\"3219.08\" style=\"stroke:#FFFFFF;stroke-width:10.08\"/>\n",
       "\t<line x1=\"4674.60\" y1=\"3219.08\" x2=\"4720.73\" y2=\"3219.08\" style=\"stroke:#FFFFFF;stroke-width:10.08\"/>\n",
       "\t<line x1=\"4761.00\" y1=\"3219.08\" x2=\"4807.13\" y2=\"3219.08\" style=\"stroke:#FFFFFF;stroke-width:10.08\"/>\n",
       "\t<line x1=\"4847.40\" y1=\"3219.08\" x2=\"4893.52\" y2=\"3219.08\" style=\"stroke:#FFFFFF;stroke-width:10.08\"/>\n",
       "\t<line x1=\"4933.80\" y1=\"3219.08\" x2=\"4979.93\" y2=\"3219.08\" style=\"stroke:#FFFFFF;stroke-width:10.08\"/>\n",
       "\t<line x1=\"5020.20\" y1=\"3219.08\" x2=\"5066.33\" y2=\"3219.08\" style=\"stroke:#FFFFFF;stroke-width:10.08\"/>\n",
       "\t<line x1=\"5106.60\" y1=\"3219.08\" x2=\"5152.73\" y2=\"3219.08\" style=\"stroke:#FFFFFF;stroke-width:10.08\"/>\n",
       "\t<line x1=\"5193.00\" y1=\"3219.08\" x2=\"5239.13\" y2=\"3219.08\" style=\"stroke:#FFFFFF;stroke-width:10.08\"/>\n",
       "\t<line x1=\"5279.40\" y1=\"3219.08\" x2=\"5325.53\" y2=\"3219.08\" style=\"stroke:#FFFFFF;stroke-width:10.08\"/>\n",
       "\t<line x1=\"5365.80\" y1=\"3219.08\" x2=\"5411.93\" y2=\"3219.08\" style=\"stroke:#FFFFFF;stroke-width:10.08\"/>\n",
       "\t<line x1=\"5452.20\" y1=\"3219.08\" x2=\"5498.33\" y2=\"3219.08\" style=\"stroke:#FFFFFF;stroke-width:10.08\"/>\n",
       "\t<line x1=\"5538.60\" y1=\"3219.08\" x2=\"5558.40\" y2=\"3219.08\" style=\"stroke:#FFFFFF;stroke-width:10.08\"/>\n",
       "\t<rect x=\"1220.85\" y=\"1484.77\" width=\"283.28\" height=\"1783.35\" style=\"fill:#BFBFBF\"/>\n",
       "\t<rect x=\"1220.85\" y=\"1484.77\" width=\"283.28\" height=\"1783.35\" style=\"fill:none;stroke:#606060;stroke-width:0.00\"/>\n",
       "\t<rect x=\"1504.13\" y=\"1498.95\" width=\"283.28\" height=\"1855.58\" style=\"fill:#BFBFBF\"/>\n",
       "\t<rect x=\"1504.13\" y=\"1498.95\" width=\"283.28\" height=\"1855.58\" style=\"fill:none;stroke:#606060;stroke-width:0.00\"/>\n",
       "\t<rect x=\"1787.40\" y=\"1631.02\" width=\"283.28\" height=\"1703.25\" style=\"fill:#BFBFBF\"/>\n",
       "\t<rect x=\"1787.40\" y=\"1631.02\" width=\"283.28\" height=\"1703.25\" style=\"fill:none;stroke:#606060;stroke-width:0.00\"/>\n",
       "\t<rect x=\"2070.68\" y=\"1898.10\" width=\"283.27\" height=\"1190.47\" style=\"fill:#BFBFBF\"/>\n",
       "\t<rect x=\"2070.68\" y=\"1898.10\" width=\"283.27\" height=\"1190.47\" style=\"fill:none;stroke:#606060;stroke-width:0.00\"/>\n",
       "\t<rect x=\"2353.95\" y=\"1845.68\" width=\"283.05\" height=\"1359.00\" style=\"fill:#BFBFBF\"/>\n",
       "\t<rect x=\"2353.95\" y=\"1845.68\" width=\"283.05\" height=\"1359.00\" style=\"fill:none;stroke:#606060;stroke-width:0.00\"/>\n",
       "\t<rect x=\"2637.00\" y=\"1643.63\" width=\"283.28\" height=\"1773.90\" style=\"fill:#BFBFBF\"/>\n",
       "\t<rect x=\"2637.00\" y=\"1643.63\" width=\"283.28\" height=\"1773.90\" style=\"fill:none;stroke:#606060;stroke-width:0.00\"/>\n",
       "\t<rect x=\"2920.28\" y=\"1938.15\" width=\"283.28\" height=\"1195.65\" style=\"fill:#BFBFBF\"/>\n",
       "\t<rect x=\"2920.28\" y=\"1938.15\" width=\"283.28\" height=\"1195.65\" style=\"fill:none;stroke:#606060;stroke-width:0.00\"/>\n",
       "\t<rect x=\"3203.55\" y=\"1885.50\" width=\"283.27\" height=\"1361.25\" style=\"fill:#BFBFBF\"/>\n",
       "\t<rect x=\"3203.55\" y=\"1885.50\" width=\"283.27\" height=\"1361.25\" style=\"fill:none;stroke:#606060;stroke-width:0.00\"/>\n",
       "\t<rect x=\"3486.83\" y=\"1633.05\" width=\"283.28\" height=\"1895.85\" style=\"fill:#BFBFBF\"/>\n",
       "\t<rect x=\"3486.83\" y=\"1633.05\" width=\"283.28\" height=\"1895.85\" style=\"fill:none;stroke:#606060;stroke-width:0.00\"/>\n",
       "\t<rect x=\"3770.10\" y=\"1603.80\" width=\"283.28\" height=\"1988.55\" style=\"fill:#BFBFBF\"/>\n",
       "\t<rect x=\"3770.10\" y=\"1603.80\" width=\"283.28\" height=\"1988.55\" style=\"fill:none;stroke:#606060;stroke-width:0.00\"/>\n",
       "\t<rect x=\"4053.38\" y=\"2098.35\" width=\"283.27\" height=\"1238.40\" style=\"fill:#BFBFBF\"/>\n",
       "\t<rect x=\"4053.38\" y=\"2098.35\" width=\"283.27\" height=\"1238.40\" style=\"fill:none;stroke:#606060;stroke-width:0.00\"/>\n",
       "\t<rect x=\"4336.65\" y=\"2017.57\" width=\"283.28\" height=\"1413.23\" style=\"fill:#BFBFBF\"/>\n",
       "\t<rect x=\"4336.65\" y=\"2017.57\" width=\"283.28\" height=\"1413.23\" style=\"fill:none;stroke:#606060;stroke-width:0.00\"/>\n",
       "\t<rect x=\"4619.93\" y=\"2455.43\" width=\"283.27\" height=\"1467.00\" style=\"fill:#BFBFBF\"/>\n",
       "\t<rect x=\"4619.93\" y=\"2455.43\" width=\"283.27\" height=\"1467.00\" style=\"fill:none;stroke:#606060;stroke-width:0.00\"/>\n",
       "\t<rect x=\"4903.20\" y=\"2551.50\" width=\"283.28\" height=\"1293.30\" style=\"fill:#BFBFBF\"/>\n",
       "\t<rect x=\"4903.20\" y=\"2551.50\" width=\"283.28\" height=\"1293.30\" style=\"fill:none;stroke:#606060;stroke-width:0.00\"/>\n",
       "\t<rect x=\"5186.48\" y=\"2304.23\" width=\"283.27\" height=\"1843.65\" style=\"fill:#BFBFBF\"/>\n",
       "\t<rect x=\"5186.48\" y=\"2304.23\" width=\"283.27\" height=\"1843.65\" style=\"fill:none;stroke:#606060;stroke-width:0.00\"/>\n",
       "\t<circle cx=\"2212.20\" cy=\"2493.45\" r=\"14.85\" style=\"fill:none;stroke:#0000FF;stroke-width:6.05\"/>\n",
       "\t<circle cx=\"2495.25\" cy=\"2525.40\" r=\"14.85\" style=\"fill:none;stroke:#0000FF;stroke-width:6.05\"/>\n",
       "\t<circle cx=\"3061.80\" cy=\"2535.98\" r=\"14.85\" style=\"fill:none;stroke:#0000FF;stroke-width:6.05\"/>\n",
       "\t<line x1=\"1341.45\" y1=\"2376.45\" x2=\"1383.30\" y2=\"2376.45\" stroke-linecap=\"round\" style=\"fill:none;stroke:#0000FF;stroke-width:6.05\"/>\n",
       "\t<line x1=\"1362.38\" y1=\"2397.38\" x2=\"1362.38\" y2=\"2355.52\" stroke-linecap=\"round\" style=\"fill:none;stroke:#0000FF;stroke-width:6.05\"/>\n",
       "\t<line x1=\"1624.73\" y1=\"2426.85\" x2=\"1666.58\" y2=\"2426.85\" stroke-linecap=\"round\" style=\"fill:none;stroke:#0000FF;stroke-width:6.05\"/>\n",
       "\t<line x1=\"1645.65\" y1=\"2447.78\" x2=\"1645.65\" y2=\"2405.93\" stroke-linecap=\"round\" style=\"fill:none;stroke:#0000FF;stroke-width:6.05\"/>\n",
       "\t<line x1=\"1908.00\" y1=\"2482.65\" x2=\"1949.85\" y2=\"2482.65\" stroke-linecap=\"round\" style=\"fill:none;stroke:#0000FF;stroke-width:6.05\"/>\n",
       "\t<line x1=\"1928.93\" y1=\"2503.57\" x2=\"1928.93\" y2=\"2461.72\" stroke-linecap=\"round\" style=\"fill:none;stroke:#0000FF;stroke-width:6.05\"/>\n",
       "\t<line x1=\"3324.15\" y1=\"2566.13\" x2=\"3366.00\" y2=\"2566.13\" stroke-linecap=\"round\" style=\"fill:none;stroke:#0000FF;stroke-width:6.05\"/>\n",
       "\t<line x1=\"3345.08\" y1=\"2587.05\" x2=\"3345.08\" y2=\"2545.20\" stroke-linecap=\"round\" style=\"fill:none;stroke:#0000FF;stroke-width:6.05\"/>\n",
       "\t<circle cx=\"2778.53\" cy=\"2530.80\" r=\"17.87\" style=\"fill:#FF0000\"/>\n",
       "\t<circle cx=\"2778.53\" cy=\"2530.80\" r=\"14.85\" style=\"fill:none;stroke:#FF0000;stroke-width:6.05\"/>\n",
       "\t<circle cx=\"3628.35\" cy=\"2581.20\" r=\"17.87\" style=\"fill:#FF0000\"/>\n",
       "\t<circle cx=\"3628.35\" cy=\"2581.20\" r=\"14.85\" style=\"fill:none;stroke:#FF0000;stroke-width:6.05\"/>\n",
       "\t<circle cx=\"3911.63\" cy=\"2598.30\" r=\"17.87\" style=\"fill:#FF0000\"/>\n",
       "\t<circle cx=\"3911.63\" cy=\"2598.30\" r=\"14.85\" style=\"fill:none;stroke:#FF0000;stroke-width:6.05\"/>\n",
       "\t<circle cx=\"4194.90\" cy=\"2717.77\" r=\"17.87\" style=\"fill:#FF0000\"/>\n",
       "\t<circle cx=\"4194.90\" cy=\"2717.77\" r=\"14.85\" style=\"fill:none;stroke:#FF0000;stroke-width:6.05\"/>\n",
       "\t<circle cx=\"4478.18\" cy=\"2724.30\" r=\"17.87\" style=\"fill:#FF0000\"/>\n",
       "\t<circle cx=\"4478.18\" cy=\"2724.30\" r=\"14.85\" style=\"fill:none;stroke:#FF0000;stroke-width:6.05\"/>\n",
       "\t<circle cx=\"4761.45\" cy=\"3189.15\" r=\"17.87\" style=\"fill:#FF0000\"/>\n",
       "\t<circle cx=\"4761.45\" cy=\"3189.15\" r=\"14.85\" style=\"fill:none;stroke:#FF0000;stroke-width:6.05\"/>\n",
       "\t<circle cx=\"5044.73\" cy=\"3198.15\" r=\"17.87\" style=\"fill:#FF0000\"/>\n",
       "\t<circle cx=\"5044.73\" cy=\"3198.15\" r=\"14.85\" style=\"fill:none;stroke:#FF0000;stroke-width:6.05\"/>\n",
       "\t<circle cx=\"5328.00\" cy=\"3226.28\" r=\"17.87\" style=\"fill:#FF0000\"/>\n",
       "\t<circle cx=\"5328.00\" cy=\"3226.28\" r=\"14.85\" style=\"fill:none;stroke:#FF0000;stroke-width:6.05\"/>\n",
       "\t<circle cx=\"1362.38\" cy=\"4767.75\" r=\"10.45\" style=\"fill:#41FFB6\"/>\n",
       "\t<circle cx=\"1362.38\" cy=\"4767.75\" r=\"7.43\" style=\"fill:none;stroke:#41FFB6;stroke-width:6.05\"/>\n",
       "\t<circle cx=\"1645.65\" cy=\"4767.75\" r=\"10.45\" style=\"fill:#41FFB6\"/>\n",
       "\t<circle cx=\"1645.65\" cy=\"4767.75\" r=\"7.43\" style=\"fill:none;stroke:#41FFB6;stroke-width:6.05\"/>\n",
       "\t<circle cx=\"1928.93\" cy=\"4767.75\" r=\"10.45\" style=\"fill:#41FFB6\"/>\n",
       "\t<circle cx=\"1928.93\" cy=\"4767.75\" r=\"7.43\" style=\"fill:none;stroke:#41FFB6;stroke-width:6.05\"/>\n",
       "\t<circle cx=\"2212.20\" cy=\"4767.75\" r=\"10.45\" style=\"fill:#41FFB6\"/>\n",
       "\t<circle cx=\"2212.20\" cy=\"4767.75\" r=\"7.43\" style=\"fill:none;stroke:#41FFB6;stroke-width:6.05\"/>\n",
       "\t<circle cx=\"2495.25\" cy=\"4767.75\" r=\"10.45\" style=\"fill:#41FFB6\"/>\n",
       "\t<circle cx=\"2495.25\" cy=\"4767.75\" r=\"7.43\" style=\"fill:none;stroke:#41FFB6;stroke-width:6.05\"/>\n",
       "\t<circle cx=\"2778.53\" cy=\"4767.75\" r=\"10.45\" style=\"fill:#41FFB6\"/>\n",
       "\t<circle cx=\"2778.53\" cy=\"4767.75\" r=\"7.43\" style=\"fill:none;stroke:#41FFB6;stroke-width:6.05\"/>\n",
       "\t<circle cx=\"3061.80\" cy=\"4767.75\" r=\"10.45\" style=\"fill:#41FFB6\"/>\n",
       "\t<circle cx=\"3061.80\" cy=\"4767.75\" r=\"7.43\" style=\"fill:none;stroke:#41FFB6;stroke-width:6.05\"/>\n",
       "\t<circle cx=\"3345.08\" cy=\"4767.75\" r=\"10.45\" style=\"fill:#41FFB6\"/>\n",
       "\t<circle cx=\"3345.08\" cy=\"4767.75\" r=\"7.43\" style=\"fill:none;stroke:#41FFB6;stroke-width:6.05\"/>\n",
       "\t<circle cx=\"3628.35\" cy=\"4767.75\" r=\"10.45\" style=\"fill:#41FFB6\"/>\n",
       "\t<circle cx=\"3628.35\" cy=\"4767.75\" r=\"7.43\" style=\"fill:none;stroke:#41FFB6;stroke-width:6.05\"/>\n",
       "\t<circle cx=\"3911.63\" cy=\"4767.75\" r=\"10.45\" style=\"fill:#41FFB6\"/>\n",
       "\t<circle cx=\"3911.63\" cy=\"4767.75\" r=\"7.43\" style=\"fill:none;stroke:#41FFB6;stroke-width:6.05\"/>\n",
       "\t<circle cx=\"4194.90\" cy=\"4767.75\" r=\"10.45\" style=\"fill:#41FFB6\"/>\n",
       "\t<circle cx=\"4194.90\" cy=\"4767.75\" r=\"7.43\" style=\"fill:none;stroke:#41FFB6;stroke-width:6.05\"/>\n",
       "\t<circle cx=\"4478.18\" cy=\"4767.75\" r=\"10.45\" style=\"fill:#41FFB6\"/>\n",
       "\t<circle cx=\"4478.18\" cy=\"4767.75\" r=\"7.43\" style=\"fill:none;stroke:#41FFB6;stroke-width:6.05\"/>\n",
       "\t<circle cx=\"4761.45\" cy=\"4767.75\" r=\"10.45\" style=\"fill:#41FFB6\"/>\n",
       "\t<circle cx=\"4761.45\" cy=\"4767.75\" r=\"7.43\" style=\"fill:none;stroke:#41FFB6;stroke-width:6.05\"/>\n",
       "\t<circle cx=\"5044.73\" cy=\"4767.75\" r=\"10.45\" style=\"fill:#41FFB6\"/>\n",
       "\t<circle cx=\"5044.73\" cy=\"4767.75\" r=\"7.43\" style=\"fill:none;stroke:#41FFB6;stroke-width:6.05\"/>\n",
       "\t<circle cx=\"5328.00\" cy=\"4767.75\" r=\"10.45\" style=\"fill:#41FFB6\"/>\n",
       "\t<circle cx=\"5328.00\" cy=\"4767.75\" r=\"7.43\" style=\"fill:none;stroke:#41FFB6;stroke-width:6.05\"/>\n",
       "\t<circle cx=\"1362.38\" cy=\"4931.10\" r=\"10.45\" style=\"fill:#7BFF7B\"/>\n",
       "\t<circle cx=\"1362.38\" cy=\"4931.10\" r=\"7.43\" style=\"fill:none;stroke:#7BFF7B;stroke-width:6.05\"/>\n",
       "\t<circle cx=\"1645.65\" cy=\"4931.10\" r=\"10.45\" style=\"fill:#7BFF7B\"/>\n",
       "\t<circle cx=\"1645.65\" cy=\"4931.10\" r=\"7.43\" style=\"fill:none;stroke:#7BFF7B;stroke-width:6.05\"/>\n",
       "\t<circle cx=\"1928.93\" cy=\"4931.10\" r=\"10.45\" style=\"fill:#7BFF7B\"/>\n",
       "\t<circle cx=\"1928.93\" cy=\"4931.10\" r=\"7.43\" style=\"fill:none;stroke:#7BFF7B;stroke-width:6.05\"/>\n",
       "\t<circle cx=\"2212.20\" cy=\"4931.10\" r=\"10.45\" style=\"fill:#7BFF7B\"/>\n",
       "\t<circle cx=\"2212.20\" cy=\"4931.10\" r=\"7.43\" style=\"fill:none;stroke:#7BFF7B;stroke-width:6.05\"/>\n",
       "\t<circle cx=\"2495.25\" cy=\"4931.10\" r=\"10.45\" style=\"fill:#7BFF7B\"/>\n",
       "\t<circle cx=\"2495.25\" cy=\"4931.10\" r=\"7.43\" style=\"fill:none;stroke:#7BFF7B;stroke-width:6.05\"/>\n",
       "\t<circle cx=\"2778.53\" cy=\"4931.10\" r=\"10.45\" style=\"fill:#7BFF7B\"/>\n",
       "\t<circle cx=\"2778.53\" cy=\"4931.10\" r=\"7.43\" style=\"fill:none;stroke:#7BFF7B;stroke-width:6.05\"/>\n",
       "\t<circle cx=\"3061.80\" cy=\"4931.10\" r=\"10.45\" style=\"fill:#7BFF7B\"/>\n",
       "\t<circle cx=\"3061.80\" cy=\"4931.10\" r=\"7.43\" style=\"fill:none;stroke:#7BFF7B;stroke-width:6.05\"/>\n",
       "\t<circle cx=\"3345.08\" cy=\"4931.10\" r=\"10.45\" style=\"fill:#7BFF7B\"/>\n",
       "\t<circle cx=\"3345.08\" cy=\"4931.10\" r=\"7.43\" style=\"fill:none;stroke:#7BFF7B;stroke-width:6.05\"/>\n",
       "\t<circle cx=\"3628.35\" cy=\"4931.10\" r=\"10.45\" style=\"fill:#7BFF7B\"/>\n",
       "\t<circle cx=\"3628.35\" cy=\"4931.10\" r=\"7.43\" style=\"fill:none;stroke:#7BFF7B;stroke-width:6.05\"/>\n",
       "\t<circle cx=\"3911.63\" cy=\"4931.10\" r=\"10.45\" style=\"fill:#7BFF7B\"/>\n",
       "\t<circle cx=\"3911.63\" cy=\"4931.10\" r=\"7.43\" style=\"fill:none;stroke:#7BFF7B;stroke-width:6.05\"/>\n",
       "\t<circle cx=\"4194.90\" cy=\"4931.10\" r=\"10.45\" style=\"fill:#7BFF7B\"/>\n",
       "\t<circle cx=\"4194.90\" cy=\"4931.10\" r=\"7.43\" style=\"fill:none;stroke:#7BFF7B;stroke-width:6.05\"/>\n",
       "\t<circle cx=\"4478.18\" cy=\"4931.10\" r=\"10.45\" style=\"fill:#7BFF7B\"/>\n",
       "\t<circle cx=\"4478.18\" cy=\"4931.10\" r=\"7.43\" style=\"fill:none;stroke:#7BFF7B;stroke-width:6.05\"/>\n",
       "\t<circle cx=\"4761.45\" cy=\"4931.10\" r=\"10.45\" style=\"fill:#7BFF7B\"/>\n",
       "\t<circle cx=\"4761.45\" cy=\"4931.10\" r=\"7.43\" style=\"fill:none;stroke:#7BFF7B;stroke-width:6.05\"/>\n",
       "\t<circle cx=\"5044.73\" cy=\"4931.10\" r=\"10.45\" style=\"fill:#7BFF7B\"/>\n",
       "\t<circle cx=\"5044.73\" cy=\"4931.10\" r=\"7.43\" style=\"fill:none;stroke:#7BFF7B;stroke-width:6.05\"/>\n",
       "\t<circle cx=\"5328.00\" cy=\"4931.10\" r=\"10.45\" style=\"fill:#7BFF7B\"/>\n",
       "\t<circle cx=\"5328.00\" cy=\"4931.10\" r=\"7.43\" style=\"fill:none;stroke:#7BFF7B;stroke-width:6.05\"/>\n",
       "\t<circle cx=\"1362.38\" cy=\"5094.45\" r=\"10.45\" style=\"fill:#B6FF41\"/>\n",
       "\t<circle cx=\"1362.38\" cy=\"5094.45\" r=\"7.43\" style=\"fill:none;stroke:#B6FF41;stroke-width:6.05\"/>\n",
       "\t<circle cx=\"1645.65\" cy=\"5094.45\" r=\"10.45\" style=\"fill:#B6FF41\"/>\n",
       "\t<circle cx=\"1645.65\" cy=\"5094.45\" r=\"7.43\" style=\"fill:none;stroke:#B6FF41;stroke-width:6.05\"/>\n",
       "\t<circle cx=\"1928.93\" cy=\"5094.45\" r=\"10.45\" style=\"fill:#B6FF41\"/>\n",
       "\t<circle cx=\"1928.93\" cy=\"5094.45\" r=\"7.43\" style=\"fill:none;stroke:#B6FF41;stroke-width:6.05\"/>\n",
       "\t<circle cx=\"2212.20\" cy=\"5094.45\" r=\"10.45\" style=\"fill:#B6FF41\"/>\n",
       "\t<circle cx=\"2212.20\" cy=\"5094.45\" r=\"7.43\" style=\"fill:none;stroke:#B6FF41;stroke-width:6.05\"/>\n",
       "\t<circle cx=\"2495.25\" cy=\"5094.45\" r=\"10.45\" style=\"fill:#B6FF41\"/>\n",
       "\t<circle cx=\"2495.25\" cy=\"5094.45\" r=\"7.43\" style=\"fill:none;stroke:#B6FF41;stroke-width:6.05\"/>\n",
       "\t<circle cx=\"2778.53\" cy=\"5094.45\" r=\"10.45\" style=\"fill:#B6FF41\"/>\n",
       "\t<circle cx=\"2778.53\" cy=\"5094.45\" r=\"7.43\" style=\"fill:none;stroke:#B6FF41;stroke-width:6.05\"/>\n",
       "\t<circle cx=\"3061.80\" cy=\"5094.45\" r=\"10.45\" style=\"fill:#B6FF41\"/>\n",
       "\t<circle cx=\"3061.80\" cy=\"5094.45\" r=\"7.43\" style=\"fill:none;stroke:#B6FF41;stroke-width:6.05\"/>\n",
       "\t<circle cx=\"3345.08\" cy=\"5094.45\" r=\"10.45\" style=\"fill:#B6FF41\"/>\n",
       "\t<circle cx=\"3345.08\" cy=\"5094.45\" r=\"7.43\" style=\"fill:none;stroke:#B6FF41;stroke-width:6.05\"/>\n",
       "\t<circle cx=\"3628.35\" cy=\"5094.45\" r=\"10.45\" style=\"fill:#B6FF41\"/>\n",
       "\t<circle cx=\"3628.35\" cy=\"5094.45\" r=\"7.43\" style=\"fill:none;stroke:#B6FF41;stroke-width:6.05\"/>\n",
       "\t<circle cx=\"3911.63\" cy=\"5094.45\" r=\"10.45\" style=\"fill:#B6FF41\"/>\n",
       "\t<circle cx=\"3911.63\" cy=\"5094.45\" r=\"7.43\" style=\"fill:none;stroke:#B6FF41;stroke-width:6.05\"/>\n",
       "\t<circle cx=\"4194.90\" cy=\"5094.45\" r=\"10.45\" style=\"fill:#B6FF41\"/>\n",
       "\t<circle cx=\"4194.90\" cy=\"5094.45\" r=\"7.43\" style=\"fill:none;stroke:#B6FF41;stroke-width:6.05\"/>\n",
       "\t<circle cx=\"4478.18\" cy=\"5094.45\" r=\"10.45\" style=\"fill:#B6FF41\"/>\n",
       "\t<circle cx=\"4478.18\" cy=\"5094.45\" r=\"7.43\" style=\"fill:none;stroke:#B6FF41;stroke-width:6.05\"/>\n",
       "\t<circle cx=\"4761.45\" cy=\"5094.45\" r=\"10.45\" style=\"fill:#B6FF41\"/>\n",
       "\t<circle cx=\"4761.45\" cy=\"5094.45\" r=\"7.43\" style=\"fill:none;stroke:#B6FF41;stroke-width:6.05\"/>\n",
       "\t<circle cx=\"5044.73\" cy=\"5094.45\" r=\"10.45\" style=\"fill:#B6FF41\"/>\n",
       "\t<circle cx=\"5044.73\" cy=\"5094.45\" r=\"7.43\" style=\"fill:none;stroke:#B6FF41;stroke-width:6.05\"/>\n",
       "\t<circle cx=\"5328.00\" cy=\"5094.45\" r=\"10.45\" style=\"fill:#B6FF41\"/>\n",
       "\t<circle cx=\"5328.00\" cy=\"5094.45\" r=\"7.43\" style=\"fill:none;stroke:#B6FF41;stroke-width:6.05\"/>\n",
       "\t<circle cx=\"1362.38\" cy=\"5584.50\" r=\"10.45\" style=\"fill:#F1FC06\"/>\n",
       "\t<circle cx=\"1362.38\" cy=\"5584.50\" r=\"7.43\" style=\"fill:none;stroke:#F1FC06;stroke-width:6.05\"/>\n",
       "\t<circle cx=\"1645.65\" cy=\"6074.55\" r=\"10.45\" style=\"fill:#F1FC06\"/>\n",
       "\t<circle cx=\"1645.65\" cy=\"6074.55\" r=\"7.43\" style=\"fill:none;stroke:#F1FC06;stroke-width:6.05\"/>\n",
       "\t<circle cx=\"1928.93\" cy=\"5257.80\" r=\"10.45\" style=\"fill:#F1FC06\"/>\n",
       "\t<circle cx=\"1928.93\" cy=\"5257.80\" r=\"7.43\" style=\"fill:none;stroke:#F1FC06;stroke-width:6.05\"/>\n",
       "\t<circle cx=\"2212.20\" cy=\"6156.23\" r=\"10.45\" style=\"fill:#F1FC06\"/>\n",
       "\t<circle cx=\"2212.20\" cy=\"6156.23\" r=\"7.43\" style=\"fill:none;stroke:#F1FC06;stroke-width:6.05\"/>\n",
       "\t<circle cx=\"2495.25\" cy=\"6401.25\" r=\"10.45\" style=\"fill:#F1FC06\"/>\n",
       "\t<circle cx=\"2495.25\" cy=\"6401.25\" r=\"7.43\" style=\"fill:none;stroke:#F1FC06;stroke-width:6.05\"/>\n",
       "\t<circle cx=\"2778.53\" cy=\"5666.18\" r=\"10.45\" style=\"fill:#F1FC06\"/>\n",
       "\t<circle cx=\"2778.53\" cy=\"5666.18\" r=\"7.43\" style=\"fill:none;stroke:#F1FC06;stroke-width:6.05\"/>\n",
       "\t<circle cx=\"3061.80\" cy=\"5747.85\" r=\"10.45\" style=\"fill:#F1FC06\"/>\n",
       "\t<circle cx=\"3061.80\" cy=\"5747.85\" r=\"7.43\" style=\"fill:none;stroke:#F1FC06;stroke-width:6.05\"/>\n",
       "\t<circle cx=\"3345.08\" cy=\"6237.90\" r=\"10.45\" style=\"fill:#F1FC06\"/>\n",
       "\t<circle cx=\"3345.08\" cy=\"6237.90\" r=\"7.43\" style=\"fill:none;stroke:#F1FC06;stroke-width:6.05\"/>\n",
       "\t<circle cx=\"3628.35\" cy=\"5339.48\" r=\"10.45\" style=\"fill:#F1FC06\"/>\n",
       "\t<circle cx=\"3628.35\" cy=\"5339.48\" r=\"7.43\" style=\"fill:none;stroke:#F1FC06;stroke-width:6.05\"/>\n",
       "\t<circle cx=\"3911.63\" cy=\"5829.53\" r=\"10.45\" style=\"fill:#F1FC06\"/>\n",
       "\t<circle cx=\"3911.63\" cy=\"5829.53\" r=\"7.43\" style=\"fill:none;stroke:#F1FC06;stroke-width:6.05\"/>\n",
       "\t<circle cx=\"4194.90\" cy=\"5911.20\" r=\"10.45\" style=\"fill:#F1FC06\"/>\n",
       "\t<circle cx=\"4194.90\" cy=\"5911.20\" r=\"7.43\" style=\"fill:none;stroke:#F1FC06;stroke-width:6.05\"/>\n",
       "\t<circle cx=\"4478.18\" cy=\"6319.58\" r=\"10.45\" style=\"fill:#F1FC06\"/>\n",
       "\t<circle cx=\"4478.18\" cy=\"6319.58\" r=\"7.43\" style=\"fill:none;stroke:#F1FC06;stroke-width:6.05\"/>\n",
       "\t<circle cx=\"4761.45\" cy=\"5992.88\" r=\"10.45\" style=\"fill:#F1FC06\"/>\n",
       "\t<circle cx=\"4761.45\" cy=\"5992.88\" r=\"7.43\" style=\"fill:none;stroke:#F1FC06;stroke-width:6.05\"/>\n",
       "\t<circle cx=\"5044.73\" cy=\"5502.83\" r=\"10.45\" style=\"fill:#F1FC06\"/>\n",
       "\t<circle cx=\"5044.73\" cy=\"5502.83\" r=\"7.43\" style=\"fill:none;stroke:#F1FC06;stroke-width:6.05\"/>\n",
       "\t<circle cx=\"5328.00\" cy=\"5421.15\" r=\"10.45\" style=\"fill:#F1FC06\"/>\n",
       "\t<circle cx=\"5328.00\" cy=\"5421.15\" r=\"7.43\" style=\"fill:none;stroke:#F1FC06;stroke-width:6.05\"/>\n",
       "\t<circle cx=\"1362.38\" cy=\"6564.60\" r=\"10.45\" style=\"fill:#FFB900\"/>\n",
       "\t<circle cx=\"1362.38\" cy=\"6564.60\" r=\"7.43\" style=\"fill:none;stroke:#FFB900;stroke-width:6.05\"/>\n",
       "\t<circle cx=\"1645.65\" cy=\"6564.60\" r=\"10.45\" style=\"fill:#FFB900\"/>\n",
       "\t<circle cx=\"1645.65\" cy=\"6564.60\" r=\"7.43\" style=\"fill:none;stroke:#FFB900;stroke-width:6.05\"/>\n",
       "\t<circle cx=\"1928.93\" cy=\"6564.60\" r=\"10.45\" style=\"fill:#FFB900\"/>\n",
       "\t<circle cx=\"1928.93\" cy=\"6564.60\" r=\"7.43\" style=\"fill:none;stroke:#FFB900;stroke-width:6.05\"/>\n",
       "\t<circle cx=\"2212.20\" cy=\"6564.60\" r=\"10.45\" style=\"fill:#FFB900\"/>\n",
       "\t<circle cx=\"2212.20\" cy=\"6564.60\" r=\"7.43\" style=\"fill:none;stroke:#FFB900;stroke-width:6.05\"/>\n",
       "\t<circle cx=\"2495.25\" cy=\"6564.60\" r=\"10.45\" style=\"fill:#FFB900\"/>\n",
       "\t<circle cx=\"2495.25\" cy=\"6564.60\" r=\"7.43\" style=\"fill:none;stroke:#FFB900;stroke-width:6.05\"/>\n",
       "\t<circle cx=\"2778.53\" cy=\"6564.60\" r=\"10.45\" style=\"fill:#FFB900\"/>\n",
       "\t<circle cx=\"2778.53\" cy=\"6564.60\" r=\"7.43\" style=\"fill:none;stroke:#FFB900;stroke-width:6.05\"/>\n",
       "\t<circle cx=\"3061.80\" cy=\"6564.60\" r=\"10.45\" style=\"fill:#FFB900\"/>\n",
       "\t<circle cx=\"3061.80\" cy=\"6564.60\" r=\"7.43\" style=\"fill:none;stroke:#FFB900;stroke-width:6.05\"/>\n",
       "\t<circle cx=\"3345.08\" cy=\"6564.60\" r=\"10.45\" style=\"fill:#FFB900\"/>\n",
       "\t<circle cx=\"3345.08\" cy=\"6564.60\" r=\"7.43\" style=\"fill:none;stroke:#FFB900;stroke-width:6.05\"/>\n",
       "\t<circle cx=\"3628.35\" cy=\"6564.60\" r=\"10.45\" style=\"fill:#FFB900\"/>\n",
       "\t<circle cx=\"3628.35\" cy=\"6564.60\" r=\"7.43\" style=\"fill:none;stroke:#FFB900;stroke-width:6.05\"/>\n",
       "\t<circle cx=\"3911.63\" cy=\"6564.60\" r=\"10.45\" style=\"fill:#FFB900\"/>\n",
       "\t<circle cx=\"3911.63\" cy=\"6564.60\" r=\"7.43\" style=\"fill:none;stroke:#FFB900;stroke-width:6.05\"/>\n",
       "\t<circle cx=\"4194.90\" cy=\"6564.60\" r=\"10.45\" style=\"fill:#FFB900\"/>\n",
       "\t<circle cx=\"4194.90\" cy=\"6564.60\" r=\"7.43\" style=\"fill:none;stroke:#FFB900;stroke-width:6.05\"/>\n",
       "\t<circle cx=\"4478.18\" cy=\"6564.60\" r=\"10.45\" style=\"fill:#FFB900\"/>\n",
       "\t<circle cx=\"4478.18\" cy=\"6564.60\" r=\"7.43\" style=\"fill:none;stroke:#FFB900;stroke-width:6.05\"/>\n",
       "\t<circle cx=\"4761.45\" cy=\"6564.60\" r=\"10.45\" style=\"fill:#FFB900\"/>\n",
       "\t<circle cx=\"4761.45\" cy=\"6564.60\" r=\"7.43\" style=\"fill:none;stroke:#FFB900;stroke-width:6.05\"/>\n",
       "\t<circle cx=\"5044.73\" cy=\"6564.60\" r=\"10.45\" style=\"fill:#FFB900\"/>\n",
       "\t<circle cx=\"5044.73\" cy=\"6564.60\" r=\"7.43\" style=\"fill:none;stroke:#FFB900;stroke-width:6.05\"/>\n",
       "\t<circle cx=\"5328.00\" cy=\"6564.60\" r=\"10.45\" style=\"fill:#FFB900\"/>\n",
       "\t<circle cx=\"5328.00\" cy=\"6564.60\" r=\"7.43\" style=\"fill:none;stroke:#FFB900;stroke-width:6.05\"/>\n",
       "\t<circle cx=\"1362.38\" cy=\"6727.95\" r=\"10.45\" style=\"fill:#FF7500\"/>\n",
       "\t<circle cx=\"1362.38\" cy=\"6727.95\" r=\"7.43\" style=\"fill:none;stroke:#FF7500;stroke-width:6.05\"/>\n",
       "\t<circle cx=\"1645.65\" cy=\"6727.95\" r=\"10.45\" style=\"fill:#FF7500\"/>\n",
       "\t<circle cx=\"1645.65\" cy=\"6727.95\" r=\"7.43\" style=\"fill:none;stroke:#FF7500;stroke-width:6.05\"/>\n",
       "\t<circle cx=\"1928.93\" cy=\"6727.95\" r=\"10.45\" style=\"fill:#FF7500\"/>\n",
       "\t<circle cx=\"1928.93\" cy=\"6727.95\" r=\"7.43\" style=\"fill:none;stroke:#FF7500;stroke-width:6.05\"/>\n",
       "\t<circle cx=\"2212.20\" cy=\"6727.95\" r=\"10.45\" style=\"fill:#FF7500\"/>\n",
       "\t<circle cx=\"2212.20\" cy=\"6727.95\" r=\"7.43\" style=\"fill:none;stroke:#FF7500;stroke-width:6.05\"/>\n",
       "\t<circle cx=\"2495.25\" cy=\"6727.95\" r=\"10.45\" style=\"fill:#FF7500\"/>\n",
       "\t<circle cx=\"2495.25\" cy=\"6727.95\" r=\"7.43\" style=\"fill:none;stroke:#FF7500;stroke-width:6.05\"/>\n",
       "\t<circle cx=\"2778.53\" cy=\"6727.95\" r=\"10.45\" style=\"fill:#FF7500\"/>\n",
       "\t<circle cx=\"2778.53\" cy=\"6727.95\" r=\"7.43\" style=\"fill:none;stroke:#FF7500;stroke-width:6.05\"/>\n",
       "\t<circle cx=\"3061.80\" cy=\"6727.95\" r=\"10.45\" style=\"fill:#FF7500\"/>\n",
       "\t<circle cx=\"3061.80\" cy=\"6727.95\" r=\"7.43\" style=\"fill:none;stroke:#FF7500;stroke-width:6.05\"/>\n",
       "\t<circle cx=\"3345.08\" cy=\"6727.95\" r=\"10.45\" style=\"fill:#FF7500\"/>\n",
       "\t<circle cx=\"3345.08\" cy=\"6727.95\" r=\"7.43\" style=\"fill:none;stroke:#FF7500;stroke-width:6.05\"/>\n",
       "\t<circle cx=\"3628.35\" cy=\"6727.95\" r=\"10.45\" style=\"fill:#FF7500\"/>\n",
       "\t<circle cx=\"3628.35\" cy=\"6727.95\" r=\"7.43\" style=\"fill:none;stroke:#FF7500;stroke-width:6.05\"/>\n",
       "\t<circle cx=\"3911.63\" cy=\"6727.95\" r=\"10.45\" style=\"fill:#FF7500\"/>\n",
       "\t<circle cx=\"3911.63\" cy=\"6727.95\" r=\"7.43\" style=\"fill:none;stroke:#FF7500;stroke-width:6.05\"/>\n",
       "\t<circle cx=\"4194.90\" cy=\"6727.95\" r=\"10.45\" style=\"fill:#FF7500\"/>\n",
       "\t<circle cx=\"4194.90\" cy=\"6727.95\" r=\"7.43\" style=\"fill:none;stroke:#FF7500;stroke-width:6.05\"/>\n",
       "\t<circle cx=\"4478.18\" cy=\"6727.95\" r=\"10.45\" style=\"fill:#FF7500\"/>\n",
       "\t<circle cx=\"4478.18\" cy=\"6727.95\" r=\"7.43\" style=\"fill:none;stroke:#FF7500;stroke-width:6.05\"/>\n",
       "\t<circle cx=\"4761.45\" cy=\"6727.95\" r=\"10.45\" style=\"fill:#FF7500\"/>\n",
       "\t<circle cx=\"4761.45\" cy=\"6727.95\" r=\"7.43\" style=\"fill:none;stroke:#FF7500;stroke-width:6.05\"/>\n",
       "\t<circle cx=\"5044.73\" cy=\"6727.95\" r=\"10.45\" style=\"fill:#FF7500\"/>\n",
       "\t<circle cx=\"5044.73\" cy=\"6727.95\" r=\"7.43\" style=\"fill:none;stroke:#FF7500;stroke-width:6.05\"/>\n",
       "\t<circle cx=\"5328.00\" cy=\"6727.95\" r=\"10.45\" style=\"fill:#FF7500\"/>\n",
       "\t<circle cx=\"5328.00\" cy=\"6727.95\" r=\"7.43\" style=\"fill:none;stroke:#FF7500;stroke-width:6.05\"/>\n",
       "\t<line x1=\"1132.20\" y1=\"4522.50\" x2=\"1076.18\" y2=\"4522.50\" style=\"stroke:#404040;stroke-width:12.10\"/>\n",
       "\t<text x=\"1048.05\" y=\"4561.77\" style=\"font-family:'Helvetica';font-size:112.05px;fill:#000000\" text-anchor=\"end\">-0.078</text>\n",
       "\t<line x1=\"1132.20\" y1=\"3671.78\" x2=\"1076.18\" y2=\"3671.78\" style=\"stroke:#404040;stroke-width:12.10\"/>\n",
       "\t<text x=\"1048.05\" y=\"3711.05\" style=\"font-family:'Helvetica';font-size:112.05px;fill:#000000\" text-anchor=\"end\">-0.027</text>\n",
       "\t<line x1=\"1132.20\" y1=\"2821.05\" x2=\"1076.18\" y2=\"2821.05\" style=\"stroke:#404040;stroke-width:12.10\"/>\n",
       "\t<text x=\"1048.05\" y=\"2860.32\" style=\"font-family:'Helvetica';font-size:112.05px;fill:#000000\" text-anchor=\"end\">0.024</text>\n",
       "\t<line x1=\"1132.20\" y1=\"1970.32\" x2=\"1076.18\" y2=\"1970.32\" style=\"stroke:#404040;stroke-width:12.10\"/>\n",
       "\t<text x=\"1048.05\" y=\"2009.60\" style=\"font-family:'Helvetica';font-size:112.05px;fill:#000000\" text-anchor=\"end\">0.075</text>\n",
       "\t<line x1=\"1132.20\" y1=\"1119.60\" x2=\"1076.18\" y2=\"1119.60\" style=\"stroke:#404040;stroke-width:12.10\"/>\n",
       "\t<text x=\"1048.05\" y=\"1158.87\" style=\"font-family:'Helvetica';font-size:112.05px;fill:#000000\" text-anchor=\"end\">0.126</text>\n",
       "\t<text x=\"1104.08\" y=\"3258.35\" style=\"font-family:'Helvetica';font-size:112.05px;fill:#C10534\" text-anchor=\"end\">0</text>\n",
       "\t<text x=\"1104.08\" y=\"4705.52\" style=\"font-family:'Helvetica';font-weight:bold;font-size:56.03px;fill:#000000\" text-anchor=\"end\">Dependent variable</text>\n",
       "\t<text x=\"1104.08\" y=\"4868.87\" style=\"font-family:'Helvetica';font-weight:bold;font-size:56.03px;fill:#000000\" text-anchor=\"end\">Focal variable</text>\n",
       "\t<text x=\"1104.08\" y=\"5032.22\" style=\"font-family:'Helvetica';font-weight:bold;font-size:56.03px;fill:#000000\" text-anchor=\"end\">Control variables</text>\n",
       "\t<text x=\"1104.08\" y=\"5195.56\" style=\"font-family:'Helvetica';font-weight:bold;font-size:56.03px;fill:#000000\" text-anchor=\"end\">Fixed effects</text>\n",
       "\t<text x=\"1104.08\" y=\"6502.37\" style=\"font-family:'Helvetica';font-weight:bold;font-size:56.03px;fill:#000000\" text-anchor=\"end\">Standard error clustering</text>\n",
       "\t<text x=\"1104.08\" y=\"6665.72\" style=\"font-family:'Helvetica';font-weight:bold;font-size:56.03px;fill:#000000\" text-anchor=\"end\">Condition</text>\n",
       "\t<text x=\"1104.08\" y=\"4787.19\" style=\"font-family:'Helvetica';font-size:56.03px;fill:#000000\" text-anchor=\"end\">Excess Sentences</text>\n",
       "\t<text x=\"1104.08\" y=\"4950.54\" style=\"font-family:'Helvetica';font-size:56.03px;fill:#000000\" text-anchor=\"end\">Proportion of women</text>\n",
       "\t<text x=\"1104.08\" y=\"5113.89\" style=\"font-family:'Helvetica';font-size:56.03px;fill:#000000\" text-anchor=\"end\">Baseline</text>\n",
       "\t<text x=\"1104.08\" y=\"5277.24\" style=\"font-family:'Helvetica';font-size:56.03px;fill:#000000\" text-anchor=\"end\">Journals</text>\n",
       "\t<text x=\"1104.08\" y=\"5358.92\" style=\"font-family:'Helvetica';font-size:56.03px;fill:#000000\" text-anchor=\"end\">JEL code</text>\n",
       "\t<text x=\"1104.08\" y=\"5440.59\" style=\"font-family:'Helvetica';font-size:56.03px;fill:#000000\" text-anchor=\"end\">Years</text>\n",
       "\t<text x=\"1104.08\" y=\"5522.27\" style=\"font-family:'Helvetica';font-size:56.03px;fill:#000000\" text-anchor=\"end\">Clusters</text>\n",
       "\t<text x=\"1104.08\" y=\"5603.94\" style=\"font-family:'Helvetica';font-size:56.03px;fill:#000000\" text-anchor=\"end\">Journals, JEL code</text>\n",
       "\t<text x=\"1104.08\" y=\"5685.62\" style=\"font-family:'Helvetica';font-size:56.03px;fill:#000000\" text-anchor=\"end\">Journals, Years</text>\n",
       "\t<text x=\"1104.08\" y=\"5767.29\" style=\"font-family:'Helvetica';font-size:56.03px;fill:#000000\" text-anchor=\"end\">Journals, Clusters</text>\n",
       "\t<text x=\"1104.08\" y=\"5848.97\" style=\"font-family:'Helvetica';font-size:56.03px;fill:#000000\" text-anchor=\"end\">JEL code, Years</text>\n",
       "\t<text x=\"1104.08\" y=\"5930.64\" style=\"font-family:'Helvetica';font-size:56.03px;fill:#000000\" text-anchor=\"end\">JEL code, Clusters</text>\n",
       "\t<text x=\"1104.08\" y=\"6012.32\" style=\"font-family:'Helvetica';font-size:56.03px;fill:#000000\" text-anchor=\"end\">Year, Clusters</text>\n",
       "\t<text x=\"1104.08\" y=\"6093.99\" style=\"font-family:'Helvetica';font-size:56.03px;fill:#000000\" text-anchor=\"end\">Journals, JEL code, Years</text>\n",
       "\t<text x=\"1104.08\" y=\"6175.67\" style=\"font-family:'Helvetica';font-size:56.03px;fill:#000000\" text-anchor=\"end\">Journals, JEL code, Clusters</text>\n",
       "\t<text x=\"1104.08\" y=\"6257.34\" style=\"font-family:'Helvetica';font-size:56.03px;fill:#000000\" text-anchor=\"end\">Journals, Years, Clusters</text>\n",
       "\t<text x=\"1104.08\" y=\"6339.02\" style=\"font-family:'Helvetica';font-size:56.03px;fill:#000000\" text-anchor=\"end\">JEL code, Years, Clusters</text>\n",
       "\t<text x=\"1104.08\" y=\"6420.69\" style=\"font-family:'Helvetica';font-size:56.03px;fill:#000000\" text-anchor=\"end\">Journals, JEL code, Years, Clusters</text>\n",
       "\t<text x=\"1104.08\" y=\"6584.04\" style=\"font-family:'Helvetica';font-size:56.03px;fill:#000000\" text-anchor=\"end\">By Network</text>\n",
       "\t<text x=\"1104.08\" y=\"6747.39\" style=\"font-family:'Helvetica';font-size:56.03px;fill:#000000\" text-anchor=\"end\">All sample</text>\n",
       "\t<text x=\"1362.38\" y=\"6922.82\" style=\"font-family:'Helvetica';font-size:112.05px;fill:#000000\" text-anchor=\"middle\">1</text>\n",
       "\t<text x=\"5328.00\" y=\"6922.82\" style=\"font-family:'Helvetica';font-size:112.05px;fill:#000000\" text-anchor=\"middle\">15</text>\n",
       "\t<rect x=\"2032.65\" y=\"494.32\" width=\"2625.30\" height=\"488.25\" style=\"fill:#FFFFFF\"/>\n",
       "\t<rect x=\"2036.68\" y=\"498.36\" width=\"2617.24\" height=\"480.19\" style=\"fill:none;stroke:#FFFFFF;stroke-width:8.06\"/>\n",
       "\t<circle cx=\"2114.10\" cy=\"596.93\" r=\"17.87\" style=\"fill:#0000FF\"/>\n",
       "\t<circle cx=\"2114.10\" cy=\"596.93\" r=\"14.85\" style=\"fill:none;stroke:#0000FF;stroke-width:6.05\"/>\n",
       "\t<circle cx=\"2114.10\" cy=\"738.45\" r=\"14.85\" style=\"fill:none;stroke:#0000FF;stroke-width:6.05\"/>\n",
       "\t<line x1=\"2093.17\" y1=\"879.98\" x2=\"2135.03\" y2=\"879.98\" stroke-linecap=\"round\" style=\"fill:none;stroke:#0000FF;stroke-width:6.05\"/>\n",
       "\t<line x1=\"2114.10\" y1=\"900.90\" x2=\"2114.10\" y2=\"859.05\" stroke-linecap=\"round\" style=\"fill:none;stroke:#0000FF;stroke-width:6.05\"/>\n",
       "\t<circle cx=\"3474.00\" cy=\"596.93\" r=\"17.87\" style=\"fill:#FF0000\"/>\n",
       "\t<circle cx=\"3474.00\" cy=\"596.93\" r=\"14.85\" style=\"fill:none;stroke:#FF0000;stroke-width:6.05\"/>\n",
       "\t<rect x=\"3432.15\" y=\"696.38\" width=\"83.92\" height=\"84.15\" style=\"fill:#E0E0E0\"/>\n",
       "\t<rect x=\"3432.15\" y=\"696.38\" width=\"83.92\" height=\"84.15\" style=\"fill:none;stroke:#C0C0C0;stroke-width:0.00\"/>\n",
       "\t<rect x=\"3432.15\" y=\"838.13\" width=\"83.92\" height=\"83.93\" style=\"fill:#BFBFBF\"/>\n",
       "\t<rect x=\"3432.15\" y=\"838.13\" width=\"83.92\" height=\"83.93\" style=\"fill:none;stroke:#606060;stroke-width:0.00\"/>\n",
       "\t<text x=\"2255.18\" y=\"626.36\" style=\"fill:#000000\">\n",
       "\t\t<tspan style=\"font-family:'Helvetica';font-size:83.93px\">Point estimate (</tspan>\n",
       "\t\t<tspan style=\"font-family:'Helvetica';font-style:italic;font-size:83.93px\">p</tspan>\n",
       "\t\t<tspan style=\"font-family:'Helvetica';font-size:83.93px\">&lt;0.01)</tspan>\n",
       "\t</text>\n",
       "\t<text x=\"2255.18\" y=\"767.88\" style=\"fill:#000000\">\n",
       "\t\t<tspan style=\"font-family:'Helvetica';font-size:83.93px\">Point estimate (</tspan>\n",
       "\t\t<tspan style=\"font-family:'Helvetica';font-style:italic;font-size:83.93px\">p</tspan>\n",
       "\t\t<tspan style=\"font-family:'Helvetica';font-size:83.93px\">&lt;0.05)</tspan>\n",
       "\t</text>\n",
       "\t<text x=\"2255.18\" y=\"909.41\" style=\"fill:#000000\">\n",
       "\t\t<tspan style=\"font-family:'Helvetica';font-size:83.93px\">Point estimate (</tspan>\n",
       "\t\t<tspan style=\"font-family:'Helvetica';font-style:italic;font-size:83.93px\">p</tspan>\n",
       "\t\t<tspan style=\"font-family:'Helvetica';font-size:83.93px\">&lt;0.1)</tspan>\n",
       "\t</text>\n",
       "\t<text x=\"3636.00\" y=\"626.36\" style=\"fill:#000000\">\n",
       "\t\t<tspan style=\"font-family:'Helvetica';font-size:83.93px\">Point estimate (</tspan>\n",
       "\t\t<tspan style=\"font-family:'Helvetica';font-style:italic;font-size:83.93px\">p</tspan>\n",
       "\t\t<tspan style=\"font-family:'Helvetica';font-size:83.93px\">≥0.1)</tspan>\n",
       "\t</text>\n",
       "\t<text x=\"3636.00\" y=\"767.88\" style=\"font-family:'Helvetica';font-size:83.93px;fill:#000000\">99% CI (hidden)</text>\n",
       "\t<text x=\"3636.00\" y=\"909.41\" style=\"font-family:'Helvetica';font-size:83.93px;fill:#000000\">95% CI</text>\n",
       "\t<text x=\"3345.30\" y=\"362.97\" style=\"font-family:'Helvetica';font-size:195.98px;fill:#000000\" text-anchor=\"middle\">Specification Curve Analsyis of Proportion of Women</text>\n",
       "</svg>"
      ],
      "text/plain": [
       "<IPython.core.display.SVG object>"
      ]
     },
     "metadata": {},
     "output_type": "display_data"
    }
   ],
   "source": [
    "%%stata\n",
    "#delimit ;\n",
    "quietly specurve using \"readability_graph_specurve.yml\", cmd(ppmlhdfe)\n",
    "        desc noci99 width(8) height(10) relativesize(0.4)\n",
    "        scale(0.7) title(\"Specification Curve Analsyis of Proportion of Women\");\n",
    "#delimit crs"
   ]
  },
  {
   "cell_type": "code",
   "execution_count": 14,
   "metadata": {},
   "outputs": [
    {
     "name": "stdout",
     "output_type": "stream",
     "text": [
      "Line commented successfully!\n"
     ]
    }
   ],
   "source": [
    "# File name\n",
    "file_path = '../code/readability_graph_specurve.yml'\n",
    "\n",
    "# Read, modify, and save the file\n",
    "with open(file_path, 'r') as file:\n",
    "    lines = file.readlines()\n",
    "\n",
    "# Modify the target line\n",
    "modified_lines = []\n",
    "for line in lines:\n",
    "    if line.strip() == \"- Excess Sentences: excess_sentences\":\n",
    "        modified_lines.append(f\"#     {line}\")  # Comment out the line\n",
    "    else:\n",
    "        modified_lines.append(line)\n",
    "\n",
    "# Write the modified content back to the file\n",
    "with open(file_path, 'w') as file:\n",
    "    file.writelines(modified_lines)\n",
    "\n",
    "print(\"Line commented successfully!\")"
   ]
  },
  {
   "cell_type": "code",
   "execution_count": 15,
   "metadata": {},
   "outputs": [
    {
     "name": "stdout",
     "output_type": "stream",
     "text": [
      "Line uncommented successfully if it was commented!\n"
     ]
    }
   ],
   "source": [
    "# File name\n",
    "file_path = '../code/readability_graph_specurve.yml'\n",
    "\n",
    "# Read, modify, and save the file\n",
    "with open(file_path, 'r') as file:\n",
    "    lines = file.readlines()\n",
    "\n",
    "# Modify the target line\n",
    "modified_lines = []\n",
    "for line in lines:\n",
    "    stripped_line = line.strip()\n",
    "    if stripped_line.startswith(\"#     - log(F-K grade): log_flesch_kincaid_grade_level\"):\n",
    "        # Uncomment the line\n",
    "        modified_lines.append(line.replace(\"#     -\", \"-\"))  # Replace `#-` with `-`\n",
    "    else:\n",
    "        modified_lines.append(line)\n",
    "\n",
    "# Write the modified content back to the file\n",
    "with open(file_path, 'w') as file:\n",
    "    file.writelines(modified_lines)\n",
    "\n",
    "print(\"Line uncommented successfully if it was commented!\")"
   ]
  },
  {
   "cell_type": "markdown",
   "metadata": {},
   "source": [
    "## Marginal Effects"
   ]
  },
  {
   "cell_type": "code",
   "execution_count": 16,
   "metadata": {},
   "outputs": [
    {
     "name": "stdout",
     "output_type": "stream",
     "text": [
      "\n"
     ]
    }
   ],
   "source": [
    "%%stata -qui\n",
    "\n",
    "use \"../data/data\", clear\n",
    "\n",
    "quietly tabulate year, generate(y_)\n",
    "quietly tabulate cluster, generate(c_)\n",
    "\n",
    "local journals ecm jpe qje res  //AER based category\n",
    "\n",
    "local jel_imp a_imp b_imp c_imp e_imp f_imp g_imp h_imp i_imp j_imp k_imp /// \n",
    "\t\tl_imp m_imp n_imp o_imp p_imp q_imp r_imp y_imp z_imp // D JEL based case\n",
    "\n",
    "summarize num_sentences, detail\n",
    "local cutoff_sentences = r(p5)\n",
    "gen int excess_sentences = num_sentences - `cutoff_sentences'\n",
    "replace excess_sentences = 0 if excess_sentences < 0"
   ]
  },
  {
   "cell_type": "code",
   "execution_count": 17,
   "metadata": {},
   "outputs": [
    {
     "name": "stdout",
     "output_type": "stream",
     "text": [
      "\n"
     ]
    }
   ],
   "source": [
    "%%stata -qui\n",
    "#delimit ;\n",
    "vl set log_num_authors log_num_pages both_genders prop_women\n",
    "       `journals' `jel_imp' y_2-y_20  c_2-c_215 jel_flag\n",
    "       , dummy clear nonotes;\n",
    "vl create fe = vldummy - (both_genders jel_flag);\n",
    "vl substitute mfe = i.fe;\n",
    "vl create controls = vlcontinuous - (prop_women);\n",
    "vl create controls_dummy = (both_genders jel_flag);\n",
    "vl substitute baseline = i.controls_dummy controls;\n",
    "vl rebuild;\n",
    "#delimit cr"
   ]
  },
  {
   "cell_type": "code",
   "execution_count": 18,
   "metadata": {},
   "outputs": [
    {
     "name": "stdout",
     "output_type": "stream",
     "text": [
      "\n"
     ]
    }
   ],
   "source": [
    "%%stata -qui\n",
    "#delimit ;\n",
    "ppmlhdfe excess_sentences prop_women $baseline,\n",
    "                          absorb($mfe)  vce(cluster cluster) d;\n",
    "#delimit cr"
   ]
  },
  {
   "cell_type": "code",
   "execution_count": 19,
   "metadata": {},
   "outputs": [
    {
     "name": "stdout",
     "output_type": "stream",
     "text": [
      "\n",
      "----------------------------------------\n",
      "                 Variable |   Active    \n",
      "--------------------------+-------------\n",
      "          log_num_authors | -0.0118     \n",
      "            log_num_pages |  0.4093***  \n",
      "           1.both_genders |  0.0004     \n",
      "               prop_women |  0.0416*    \n",
      "----------------------------------------\n",
      "Legend: * p<0.05; ** p<0.01; *** p<0.001\n"
     ]
    }
   ],
   "source": [
    "%%stata\n",
    "estimates table, keep(log_num_authors log_num_pages 1.both_genders prop_women) b(%5.4f) star varwidth(25)"
   ]
  },
  {
   "cell_type": "code",
   "execution_count": 20,
   "metadata": {},
   "outputs": [
    {
     "name": "stdout",
     "output_type": "stream",
     "text": [
      "\n"
     ]
    }
   ],
   "source": [
    "%%stata -qui\n",
    "#delimit ;\n",
    "margins, dydx(prop_women) at(prop_women=(0(0.25)1)\n",
    "                             log_num_pages=3.463461\n",
    "                             log_num_authors=0.60205999132 (base) _factor);\n",
    "#delimit cr"
   ]
  },
  {
   "cell_type": "code",
   "execution_count": 21,
   "metadata": {},
   "outputs": [
    {
     "name": "stdout",
     "output_type": "stream",
     "text": [
      "\n",
      ". set scheme gg_piyg\n",
      "\n",
      ". marginsplot, yline(0) recast(line) title(\"Marginal Effects of Proportion of W\n",
      "> omen\")\n",
      "\n",
      "Variables that uniquely identify margins: prop_women\n",
      "\n",
      ". \n"
     ]
    },
    {
     "data": {
      "image/svg+xml": [
       "<svg xmlns=\"http://www.w3.org/2000/svg\" xmlns:xlink=\"http://www.w3.org/1999/xlink\" version=\"1.1\" width=\"6.000in\" height=\"4.000in\" viewBox=\"0 0 4320 2880\">\n",
       "\t<desc>Stata Graph - Graph</desc>\n",
       "\t<rect x=\"0\" y=\"0\" width=\"4320\" height=\"2880\" style=\"fill:#FFFFFF;stroke:none\"/>\n",
       "\t<rect x=\"0.00\" y=\"0.00\" width=\"4320.00\" height=\"2880.00\" style=\"fill:#FFFFFF\"/>\n",
       "\t<rect x=\"2.88\" y=\"2.88\" width=\"4314.24\" height=\"2874.24\" style=\"fill:none;stroke:#FFFFFF;stroke-width:5.76\"/>\n",
       "\t<rect x=\"479.25\" y=\"261.36\" width=\"3739.91\" height=\"2198.78\" style=\"fill:#E0E0E0\"/>\n",
       "\t<rect x=\"482.13\" y=\"264.24\" width=\"3734.15\" height=\"2193.02\" style=\"fill:none;stroke:#FFFFFF;stroke-opacity:0.00;stroke-width:5.76\"/>\n",
       "\t<line x1=\"479.25\" y1=\"2374.42\" x2=\"4219.16\" y2=\"2374.42\" style=\"stroke:#FFFFFF;stroke-width:8.64\"/>\n",
       "\t<line x1=\"479.25\" y1=\"1722.63\" x2=\"4219.16\" y2=\"1722.63\" style=\"stroke:#FFFFFF;stroke-width:8.64\"/>\n",
       "\t<line x1=\"479.25\" y1=\"1070.70\" x2=\"4219.16\" y2=\"1070.70\" style=\"stroke:#FFFFFF;stroke-width:8.64\"/>\n",
       "\t<line x1=\"479.25\" y1=\"418.91\" x2=\"4219.16\" y2=\"418.91\" style=\"stroke:#FFFFFF;stroke-width:8.64\"/>\n",
       "\t<line x1=\"542.70\" y1=\"2460.14\" x2=\"542.70\" y2=\"261.36\" style=\"stroke:#FFFFFF;stroke-width:8.64\"/>\n",
       "\t<line x1=\"1445.99\" y1=\"2460.14\" x2=\"1445.99\" y2=\"261.36\" style=\"stroke:#FFFFFF;stroke-width:8.64\"/>\n",
       "\t<line x1=\"2349.27\" y1=\"2460.14\" x2=\"2349.27\" y2=\"261.36\" style=\"stroke:#FFFFFF;stroke-width:8.64\"/>\n",
       "\t<line x1=\"3252.56\" y1=\"2460.14\" x2=\"3252.56\" y2=\"261.36\" style=\"stroke:#FFFFFF;stroke-width:8.64\"/>\n",
       "\t<line x1=\"4155.84\" y1=\"2460.14\" x2=\"4155.84\" y2=\"261.36\" style=\"stroke:#FFFFFF;stroke-width:8.64\"/>\n",
       "\t<line x1=\"479.25\" y1=\"2374.42\" x2=\"502.34\" y2=\"2374.42\" style=\"stroke:#FFFFFF;stroke-width:7.20\"/>\n",
       "\t<line x1=\"522.45\" y1=\"2374.42\" x2=\"545.54\" y2=\"2374.42\" style=\"stroke:#FFFFFF;stroke-width:7.20\"/>\n",
       "\t<line x1=\"565.65\" y1=\"2374.42\" x2=\"588.74\" y2=\"2374.42\" style=\"stroke:#FFFFFF;stroke-width:7.20\"/>\n",
       "\t<line x1=\"608.85\" y1=\"2374.42\" x2=\"631.93\" y2=\"2374.42\" style=\"stroke:#FFFFFF;stroke-width:7.20\"/>\n",
       "\t<line x1=\"652.05\" y1=\"2374.42\" x2=\"675.14\" y2=\"2374.42\" style=\"stroke:#FFFFFF;stroke-width:7.20\"/>\n",
       "\t<line x1=\"695.25\" y1=\"2374.42\" x2=\"718.34\" y2=\"2374.42\" style=\"stroke:#FFFFFF;stroke-width:7.20\"/>\n",
       "\t<line x1=\"738.45\" y1=\"2374.42\" x2=\"761.54\" y2=\"2374.42\" style=\"stroke:#FFFFFF;stroke-width:7.20\"/>\n",
       "\t<line x1=\"781.65\" y1=\"2374.42\" x2=\"804.74\" y2=\"2374.42\" style=\"stroke:#FFFFFF;stroke-width:7.20\"/>\n",
       "\t<line x1=\"824.85\" y1=\"2374.42\" x2=\"847.94\" y2=\"2374.42\" style=\"stroke:#FFFFFF;stroke-width:7.20\"/>\n",
       "\t<line x1=\"868.05\" y1=\"2374.42\" x2=\"891.14\" y2=\"2374.42\" style=\"stroke:#FFFFFF;stroke-width:7.20\"/>\n",
       "\t<line x1=\"911.25\" y1=\"2374.42\" x2=\"934.34\" y2=\"2374.42\" style=\"stroke:#FFFFFF;stroke-width:7.20\"/>\n",
       "\t<line x1=\"954.45\" y1=\"2374.42\" x2=\"977.54\" y2=\"2374.42\" style=\"stroke:#FFFFFF;stroke-width:7.20\"/>\n",
       "\t<line x1=\"997.65\" y1=\"2374.42\" x2=\"1020.74\" y2=\"2374.42\" style=\"stroke:#FFFFFF;stroke-width:7.20\"/>\n",
       "\t<line x1=\"1040.85\" y1=\"2374.42\" x2=\"1063.94\" y2=\"2374.42\" style=\"stroke:#FFFFFF;stroke-width:7.20\"/>\n",
       "\t<line x1=\"1084.05\" y1=\"2374.42\" x2=\"1107.14\" y2=\"2374.42\" style=\"stroke:#FFFFFF;stroke-width:7.20\"/>\n",
       "\t<line x1=\"1127.25\" y1=\"2374.42\" x2=\"1150.34\" y2=\"2374.42\" style=\"stroke:#FFFFFF;stroke-width:7.20\"/>\n",
       "\t<line x1=\"1170.45\" y1=\"2374.42\" x2=\"1193.54\" y2=\"2374.42\" style=\"stroke:#FFFFFF;stroke-width:7.20\"/>\n",
       "\t<line x1=\"1213.65\" y1=\"2374.42\" x2=\"1236.73\" y2=\"2374.42\" style=\"stroke:#FFFFFF;stroke-width:7.20\"/>\n",
       "\t<line x1=\"1256.85\" y1=\"2374.42\" x2=\"1279.94\" y2=\"2374.42\" style=\"stroke:#FFFFFF;stroke-width:7.20\"/>\n",
       "\t<line x1=\"1300.05\" y1=\"2374.42\" x2=\"1323.14\" y2=\"2374.42\" style=\"stroke:#FFFFFF;stroke-width:7.20\"/>\n",
       "\t<line x1=\"1343.25\" y1=\"2374.42\" x2=\"1366.34\" y2=\"2374.42\" style=\"stroke:#FFFFFF;stroke-width:7.20\"/>\n",
       "\t<line x1=\"1386.45\" y1=\"2374.42\" x2=\"1409.54\" y2=\"2374.42\" style=\"stroke:#FFFFFF;stroke-width:7.20\"/>\n",
       "\t<line x1=\"1429.65\" y1=\"2374.42\" x2=\"1452.74\" y2=\"2374.42\" style=\"stroke:#FFFFFF;stroke-width:7.20\"/>\n",
       "\t<line x1=\"1472.85\" y1=\"2374.42\" x2=\"1495.94\" y2=\"2374.42\" style=\"stroke:#FFFFFF;stroke-width:7.20\"/>\n",
       "\t<line x1=\"1516.05\" y1=\"2374.42\" x2=\"1539.14\" y2=\"2374.42\" style=\"stroke:#FFFFFF;stroke-width:7.20\"/>\n",
       "\t<line x1=\"1559.25\" y1=\"2374.42\" x2=\"1582.34\" y2=\"2374.42\" style=\"stroke:#FFFFFF;stroke-width:7.20\"/>\n",
       "\t<line x1=\"1602.45\" y1=\"2374.42\" x2=\"1625.54\" y2=\"2374.42\" style=\"stroke:#FFFFFF;stroke-width:7.20\"/>\n",
       "\t<line x1=\"1645.65\" y1=\"2374.42\" x2=\"1668.74\" y2=\"2374.42\" style=\"stroke:#FFFFFF;stroke-width:7.20\"/>\n",
       "\t<line x1=\"1688.85\" y1=\"2374.42\" x2=\"1711.94\" y2=\"2374.42\" style=\"stroke:#FFFFFF;stroke-width:7.20\"/>\n",
       "\t<line x1=\"1732.05\" y1=\"2374.42\" x2=\"1755.14\" y2=\"2374.42\" style=\"stroke:#FFFFFF;stroke-width:7.20\"/>\n",
       "\t<line x1=\"1775.25\" y1=\"2374.42\" x2=\"1798.34\" y2=\"2374.42\" style=\"stroke:#FFFFFF;stroke-width:7.20\"/>\n",
       "\t<line x1=\"1818.45\" y1=\"2374.42\" x2=\"1841.54\" y2=\"2374.42\" style=\"stroke:#FFFFFF;stroke-width:7.20\"/>\n",
       "\t<line x1=\"1861.65\" y1=\"2374.42\" x2=\"1884.74\" y2=\"2374.42\" style=\"stroke:#FFFFFF;stroke-width:7.20\"/>\n",
       "\t<line x1=\"1904.85\" y1=\"2374.42\" x2=\"1927.94\" y2=\"2374.42\" style=\"stroke:#FFFFFF;stroke-width:7.20\"/>\n",
       "\t<line x1=\"1948.05\" y1=\"2374.42\" x2=\"1971.14\" y2=\"2374.42\" style=\"stroke:#FFFFFF;stroke-width:7.20\"/>\n",
       "\t<line x1=\"1991.25\" y1=\"2374.42\" x2=\"2014.34\" y2=\"2374.42\" style=\"stroke:#FFFFFF;stroke-width:7.20\"/>\n",
       "\t<line x1=\"2034.45\" y1=\"2374.42\" x2=\"2057.54\" y2=\"2374.42\" style=\"stroke:#FFFFFF;stroke-width:7.20\"/>\n",
       "\t<line x1=\"2077.65\" y1=\"2374.42\" x2=\"2100.74\" y2=\"2374.42\" style=\"stroke:#FFFFFF;stroke-width:7.20\"/>\n",
       "\t<line x1=\"2120.85\" y1=\"2374.42\" x2=\"2143.94\" y2=\"2374.42\" style=\"stroke:#FFFFFF;stroke-width:7.20\"/>\n",
       "\t<line x1=\"2164.05\" y1=\"2374.42\" x2=\"2187.14\" y2=\"2374.42\" style=\"stroke:#FFFFFF;stroke-width:7.20\"/>\n",
       "\t<line x1=\"2207.25\" y1=\"2374.42\" x2=\"2230.34\" y2=\"2374.42\" style=\"stroke:#FFFFFF;stroke-width:7.20\"/>\n",
       "\t<line x1=\"2250.45\" y1=\"2374.42\" x2=\"2273.54\" y2=\"2374.42\" style=\"stroke:#FFFFFF;stroke-width:7.20\"/>\n",
       "\t<line x1=\"2293.65\" y1=\"2374.42\" x2=\"2316.74\" y2=\"2374.42\" style=\"stroke:#FFFFFF;stroke-width:7.20\"/>\n",
       "\t<line x1=\"2336.85\" y1=\"2374.42\" x2=\"2359.94\" y2=\"2374.42\" style=\"stroke:#FFFFFF;stroke-width:7.20\"/>\n",
       "\t<line x1=\"2380.05\" y1=\"2374.42\" x2=\"2403.14\" y2=\"2374.42\" style=\"stroke:#FFFFFF;stroke-width:7.20\"/>\n",
       "\t<line x1=\"2423.25\" y1=\"2374.42\" x2=\"2446.34\" y2=\"2374.42\" style=\"stroke:#FFFFFF;stroke-width:7.20\"/>\n",
       "\t<line x1=\"2466.45\" y1=\"2374.42\" x2=\"2489.54\" y2=\"2374.42\" style=\"stroke:#FFFFFF;stroke-width:7.20\"/>\n",
       "\t<line x1=\"2509.65\" y1=\"2374.42\" x2=\"2532.74\" y2=\"2374.42\" style=\"stroke:#FFFFFF;stroke-width:7.20\"/>\n",
       "\t<line x1=\"2552.85\" y1=\"2374.42\" x2=\"2575.94\" y2=\"2374.42\" style=\"stroke:#FFFFFF;stroke-width:7.20\"/>\n",
       "\t<line x1=\"2596.05\" y1=\"2374.42\" x2=\"2619.14\" y2=\"2374.42\" style=\"stroke:#FFFFFF;stroke-width:7.20\"/>\n",
       "\t<line x1=\"2639.25\" y1=\"2374.42\" x2=\"2662.34\" y2=\"2374.42\" style=\"stroke:#FFFFFF;stroke-width:7.20\"/>\n",
       "\t<line x1=\"2682.45\" y1=\"2374.42\" x2=\"2705.54\" y2=\"2374.42\" style=\"stroke:#FFFFFF;stroke-width:7.20\"/>\n",
       "\t<line x1=\"2725.65\" y1=\"2374.42\" x2=\"2748.74\" y2=\"2374.42\" style=\"stroke:#FFFFFF;stroke-width:7.20\"/>\n",
       "\t<line x1=\"2768.85\" y1=\"2374.42\" x2=\"2791.94\" y2=\"2374.42\" style=\"stroke:#FFFFFF;stroke-width:7.20\"/>\n",
       "\t<line x1=\"2812.05\" y1=\"2374.42\" x2=\"2835.14\" y2=\"2374.42\" style=\"stroke:#FFFFFF;stroke-width:7.20\"/>\n",
       "\t<line x1=\"2855.25\" y1=\"2374.42\" x2=\"2878.34\" y2=\"2374.42\" style=\"stroke:#FFFFFF;stroke-width:7.20\"/>\n",
       "\t<line x1=\"2898.45\" y1=\"2374.42\" x2=\"2921.54\" y2=\"2374.42\" style=\"stroke:#FFFFFF;stroke-width:7.20\"/>\n",
       "\t<line x1=\"2941.65\" y1=\"2374.42\" x2=\"2964.74\" y2=\"2374.42\" style=\"stroke:#FFFFFF;stroke-width:7.20\"/>\n",
       "\t<line x1=\"2984.85\" y1=\"2374.42\" x2=\"3007.94\" y2=\"2374.42\" style=\"stroke:#FFFFFF;stroke-width:7.20\"/>\n",
       "\t<line x1=\"3028.05\" y1=\"2374.42\" x2=\"3051.14\" y2=\"2374.42\" style=\"stroke:#FFFFFF;stroke-width:7.20\"/>\n",
       "\t<line x1=\"3071.25\" y1=\"2374.42\" x2=\"3094.34\" y2=\"2374.42\" style=\"stroke:#FFFFFF;stroke-width:7.20\"/>\n",
       "\t<line x1=\"3114.45\" y1=\"2374.42\" x2=\"3137.54\" y2=\"2374.42\" style=\"stroke:#FFFFFF;stroke-width:7.20\"/>\n",
       "\t<line x1=\"3157.65\" y1=\"2374.42\" x2=\"3180.74\" y2=\"2374.42\" style=\"stroke:#FFFFFF;stroke-width:7.20\"/>\n",
       "\t<line x1=\"3200.85\" y1=\"2374.42\" x2=\"3223.94\" y2=\"2374.42\" style=\"stroke:#FFFFFF;stroke-width:7.20\"/>\n",
       "\t<line x1=\"3244.05\" y1=\"2374.42\" x2=\"3267.14\" y2=\"2374.42\" style=\"stroke:#FFFFFF;stroke-width:7.20\"/>\n",
       "\t<line x1=\"3287.25\" y1=\"2374.42\" x2=\"3310.34\" y2=\"2374.42\" style=\"stroke:#FFFFFF;stroke-width:7.20\"/>\n",
       "\t<line x1=\"3330.45\" y1=\"2374.42\" x2=\"3353.54\" y2=\"2374.42\" style=\"stroke:#FFFFFF;stroke-width:7.20\"/>\n",
       "\t<line x1=\"3373.65\" y1=\"2374.42\" x2=\"3396.74\" y2=\"2374.42\" style=\"stroke:#FFFFFF;stroke-width:7.20\"/>\n",
       "\t<line x1=\"3416.85\" y1=\"2374.42\" x2=\"3439.94\" y2=\"2374.42\" style=\"stroke:#FFFFFF;stroke-width:7.20\"/>\n",
       "\t<line x1=\"3460.05\" y1=\"2374.42\" x2=\"3483.14\" y2=\"2374.42\" style=\"stroke:#FFFFFF;stroke-width:7.20\"/>\n",
       "\t<line x1=\"3503.25\" y1=\"2374.42\" x2=\"3526.34\" y2=\"2374.42\" style=\"stroke:#FFFFFF;stroke-width:7.20\"/>\n",
       "\t<line x1=\"3546.45\" y1=\"2374.42\" x2=\"3569.54\" y2=\"2374.42\" style=\"stroke:#FFFFFF;stroke-width:7.20\"/>\n",
       "\t<line x1=\"3589.65\" y1=\"2374.42\" x2=\"3612.74\" y2=\"2374.42\" style=\"stroke:#FFFFFF;stroke-width:7.20\"/>\n",
       "\t<line x1=\"3632.85\" y1=\"2374.42\" x2=\"3655.94\" y2=\"2374.42\" style=\"stroke:#FFFFFF;stroke-width:7.20\"/>\n",
       "\t<line x1=\"3676.05\" y1=\"2374.42\" x2=\"3699.14\" y2=\"2374.42\" style=\"stroke:#FFFFFF;stroke-width:7.20\"/>\n",
       "\t<line x1=\"3719.25\" y1=\"2374.42\" x2=\"3742.34\" y2=\"2374.42\" style=\"stroke:#FFFFFF;stroke-width:7.20\"/>\n",
       "\t<line x1=\"3762.45\" y1=\"2374.42\" x2=\"3785.54\" y2=\"2374.42\" style=\"stroke:#FFFFFF;stroke-width:7.20\"/>\n",
       "\t<line x1=\"3805.65\" y1=\"2374.42\" x2=\"3828.74\" y2=\"2374.42\" style=\"stroke:#FFFFFF;stroke-width:7.20\"/>\n",
       "\t<line x1=\"3848.85\" y1=\"2374.42\" x2=\"3871.94\" y2=\"2374.42\" style=\"stroke:#FFFFFF;stroke-width:7.20\"/>\n",
       "\t<line x1=\"3892.05\" y1=\"2374.42\" x2=\"3915.14\" y2=\"2374.42\" style=\"stroke:#FFFFFF;stroke-width:7.20\"/>\n",
       "\t<line x1=\"3935.25\" y1=\"2374.42\" x2=\"3958.34\" y2=\"2374.42\" style=\"stroke:#FFFFFF;stroke-width:7.20\"/>\n",
       "\t<line x1=\"3978.45\" y1=\"2374.42\" x2=\"4001.54\" y2=\"2374.42\" style=\"stroke:#FFFFFF;stroke-width:7.20\"/>\n",
       "\t<line x1=\"4021.65\" y1=\"2374.42\" x2=\"4044.74\" y2=\"2374.42\" style=\"stroke:#FFFFFF;stroke-width:7.20\"/>\n",
       "\t<line x1=\"4064.85\" y1=\"2374.42\" x2=\"4087.94\" y2=\"2374.42\" style=\"stroke:#FFFFFF;stroke-width:7.20\"/>\n",
       "\t<line x1=\"4108.05\" y1=\"2374.42\" x2=\"4131.14\" y2=\"2374.42\" style=\"stroke:#FFFFFF;stroke-width:7.20\"/>\n",
       "\t<line x1=\"4151.25\" y1=\"2374.42\" x2=\"4174.34\" y2=\"2374.42\" style=\"stroke:#FFFFFF;stroke-width:7.20\"/>\n",
       "\t<line x1=\"4194.45\" y1=\"2374.42\" x2=\"4217.54\" y2=\"2374.42\" style=\"stroke:#FFFFFF;stroke-width:7.20\"/>\n",
       "\t<line x1=\"542.70\" y1=\"2356.33\" x2=\"542.70\" y2=\"447.80\" style=\"stroke:#8E0152;stroke-width:8.64\"/>\n",
       "\t<line x1=\"524.75\" y1=\"447.80\" x2=\"560.79\" y2=\"447.80\" stroke-linecap=\"round\" style=\"stroke:#8E0152;stroke-width:8.64\"/>\n",
       "\t<line x1=\"524.75\" y1=\"2356.33\" x2=\"560.79\" y2=\"2356.33\" stroke-linecap=\"round\" style=\"stroke:#8E0152;stroke-width:8.64\"/>\n",
       "\t<line x1=\"1445.99\" y1=\"2366.05\" x2=\"1445.99\" y2=\"417.70\" style=\"stroke:#8E0152;stroke-width:8.64\"/>\n",
       "\t<line x1=\"1428.03\" y1=\"417.70\" x2=\"1464.08\" y2=\"417.70\" stroke-linecap=\"round\" style=\"stroke:#8E0152;stroke-width:8.64\"/>\n",
       "\t<line x1=\"1428.03\" y1=\"2366.05\" x2=\"1464.08\" y2=\"2366.05\" stroke-linecap=\"round\" style=\"stroke:#8E0152;stroke-width:8.64\"/>\n",
       "\t<line x1=\"2349.27\" y1=\"2376.04\" x2=\"2349.27\" y2=\"387.05\" style=\"stroke:#8E0152;stroke-width:8.64\"/>\n",
       "\t<line x1=\"2331.32\" y1=\"387.05\" x2=\"2367.36\" y2=\"387.05\" stroke-linecap=\"round\" style=\"stroke:#8E0152;stroke-width:8.64\"/>\n",
       "\t<line x1=\"2331.32\" y1=\"2376.04\" x2=\"2367.36\" y2=\"2376.04\" stroke-linecap=\"round\" style=\"stroke:#8E0152;stroke-width:8.64\"/>\n",
       "\t<line x1=\"3252.56\" y1=\"2386.30\" x2=\"3252.56\" y2=\"356.14\" style=\"stroke:#8E0152;stroke-width:8.64\"/>\n",
       "\t<line x1=\"3234.60\" y1=\"356.14\" x2=\"3270.65\" y2=\"356.14\" stroke-linecap=\"round\" style=\"stroke:#8E0152;stroke-width:8.64\"/>\n",
       "\t<line x1=\"3234.60\" y1=\"2386.30\" x2=\"3270.65\" y2=\"2386.30\" stroke-linecap=\"round\" style=\"stroke:#8E0152;stroke-width:8.64\"/>\n",
       "\t<line x1=\"4155.84\" y1=\"2396.83\" x2=\"4155.84\" y2=\"324.68\" style=\"stroke:#8E0152;stroke-width:8.64\"/>\n",
       "\t<line x1=\"4137.89\" y1=\"324.68\" x2=\"4173.93\" y2=\"324.68\" stroke-linecap=\"round\" style=\"stroke:#8E0152;stroke-width:8.64\"/>\n",
       "\t<line x1=\"4137.89\" y1=\"2396.83\" x2=\"4173.93\" y2=\"2396.83\" stroke-linecap=\"round\" style=\"stroke:#8E0152;stroke-width:8.64\"/>\n",
       "\t<path d=\" M542.57 1402.13 L1445.85 1391.87 L2349.14 1381.61 L3252.42 1371.35 L4155.71 1360.82\" stroke-linejoin=\"round\" style=\"fill:none;stroke:#8E0152;stroke-width:8.64\"/>\n",
       "\t<line x1=\"479.25\" y1=\"2374.42\" x2=\"439.29\" y2=\"2374.42\" style=\"stroke:#404040;stroke-width:8.64\"/>\n",
       "\t<text x=\"419.31\" y=\"2402.42\" style=\"font-family:'Helvetica';font-size:79.92px;fill:#000000\" text-anchor=\"end\">0</text>\n",
       "\t<line x1=\"479.25\" y1=\"1722.63\" x2=\"439.29\" y2=\"1722.63\" style=\"stroke:#404040;stroke-width:8.64\"/>\n",
       "\t<text x=\"419.31\" y=\"1750.63\" style=\"font-family:'Helvetica';font-size:79.92px;fill:#000000\" text-anchor=\"end\">.05</text>\n",
       "\t<line x1=\"479.25\" y1=\"1070.70\" x2=\"439.29\" y2=\"1070.70\" style=\"stroke:#404040;stroke-width:8.64\"/>\n",
       "\t<text x=\"419.31\" y=\"1098.71\" style=\"font-family:'Helvetica';font-size:79.92px;fill:#000000\" text-anchor=\"end\">.1</text>\n",
       "\t<line x1=\"479.25\" y1=\"418.91\" x2=\"439.29\" y2=\"418.91\" style=\"stroke:#404040;stroke-width:8.64\"/>\n",
       "\t<text x=\"419.31\" y=\"446.92\" style=\"font-family:'Helvetica';font-size:79.92px;fill:#000000\" text-anchor=\"end\">.15</text>\n",
       "\t<text x=\"211.26\" y=\"1360.69\" style=\"font-family:'Helvetica';font-size:79.92px;fill:#000000\" transform=\"rotate(-90 211.26,1360.69)\" text-anchor=\"middle\">Effects on predicted mean of excess_sentences</text>\n",
       "\t<line x1=\"542.70\" y1=\"2460.14\" x2=\"542.70\" y2=\"2500.10\" style=\"stroke:#404040;stroke-width:8.64\"/>\n",
       "\t<text x=\"542.70\" y=\"2575.96\" style=\"font-family:'Helvetica';font-size:79.92px;fill:#000000\" text-anchor=\"middle\">0</text>\n",
       "\t<line x1=\"1445.99\" y1=\"2460.14\" x2=\"1445.99\" y2=\"2500.10\" style=\"stroke:#404040;stroke-width:8.64\"/>\n",
       "\t<text x=\"1445.99\" y=\"2575.96\" style=\"font-family:'Helvetica';font-size:79.92px;fill:#000000\" text-anchor=\"middle\">.25</text>\n",
       "\t<line x1=\"2349.27\" y1=\"2460.14\" x2=\"2349.27\" y2=\"2500.10\" style=\"stroke:#404040;stroke-width:8.64\"/>\n",
       "\t<text x=\"2349.27\" y=\"2575.96\" style=\"font-family:'Helvetica';font-size:79.92px;fill:#000000\" text-anchor=\"middle\">.5</text>\n",
       "\t<line x1=\"3252.56\" y1=\"2460.14\" x2=\"3252.56\" y2=\"2500.10\" style=\"stroke:#404040;stroke-width:8.64\"/>\n",
       "\t<text x=\"3252.56\" y=\"2575.96\" style=\"font-family:'Helvetica';font-size:79.92px;fill:#000000\" text-anchor=\"middle\">.75</text>\n",
       "\t<line x1=\"4155.84\" y1=\"2460.14\" x2=\"4155.84\" y2=\"2500.10\" style=\"stroke:#404040;stroke-width:8.64\"/>\n",
       "\t<text x=\"4155.84\" y=\"2575.96\" style=\"font-family:'Helvetica';font-size:79.92px;fill:#000000\" text-anchor=\"middle\">1</text>\n",
       "\t<text x=\"2349.27\" y=\"2700.57\" style=\"font-family:'Helvetica';font-size:79.92px;fill:#000000\" text-anchor=\"middle\">Proportion of women among the authors</text>\n",
       "\t<text x=\"2160.00\" y=\"206.23\" style=\"font-family:'Helvetica';font-size:125.96px;fill:#000000\" text-anchor=\"middle\">Marginal Effects of Proportion of Women</text>\n",
       "</svg>"
      ],
      "text/plain": [
       "<IPython.core.display.SVG object>"
      ]
     },
     "metadata": {},
     "output_type": "display_data"
    }
   ],
   "source": [
    "%%stata\n",
    "set scheme gg_piyg\n",
    "marginsplot, yline(0) recast(line) title(\"Marginal Effects of Proportion of Women\")"
   ]
  }
 ],
 "metadata": {
  "kernelspec": {
   "display_name": "Python 3 (ipykernel)",
   "language": "python",
   "name": "python3"
  },
  "language_info": {
   "codemirror_mode": {
    "name": "ipython",
    "version": 3
   },
   "file_extension": ".py",
   "mimetype": "text/x-python",
   "name": "python",
   "nbconvert_exporter": "python",
   "pygments_lexer": "ipython3",
   "version": "3.11.0"
  }
 },
 "nbformat": 4,
 "nbformat_minor": 4
}
