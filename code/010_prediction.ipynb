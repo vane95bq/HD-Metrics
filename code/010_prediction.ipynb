{
 "cells": [
  {
   "cell_type": "code",
   "execution_count": 1,
   "id": "a8603d9d-b5d8-494f-b4a6-76ffeacf8182",
   "metadata": {},
   "outputs": [],
   "source": [
    "%%capture\n",
    "import stata_setup, os\n",
    "if os.name == 'nt':\n",
    "    stata_setup.config('C:/Program Files/Stata17/','mp')\n",
    "else:\n",
    "    stata_setup.config('/usr/local/stata17','mp')"
   ]
  },
  {
   "cell_type": "markdown",
   "id": "9d20ce8a-757c-4d2a-a480-6a0d3d6aec7c",
   "metadata": {},
   "source": [
    "## Preparing the data"
   ]
  },
  {
   "cell_type": "code",
   "execution_count": 2,
   "id": "a37c8376-d4ba-47ce-b130-43f70fb7d67b",
   "metadata": {},
   "outputs": [
    {
     "name": "stdout",
     "output_type": "stream",
     "text": [
      "\n"
     ]
    }
   ],
   "source": [
    "%%stata -qui\n",
    "\n",
    "use \"../data/data\", clear\n",
    "rename log_flesch_kincaid_grade_level FKG\n",
    "quietly tabulate year, generate(y_)\n",
    "quietly tabulate cluster, generate(c_)\n",
    "\n",
    "local journals  ecm jpe qje res  //AER based category\n",
    "\n",
    "local jel_imp a_imp b_imp c_imp  e_imp f_imp g_imp h_imp i_imp j_imp k_imp /// \n",
    "\t\tl_imp m_imp n_imp o_imp p_imp q_imp r_imp y_imp z_imp // D JEL based case"
   ]
  },
  {
   "cell_type": "markdown",
   "id": "4f3f1d3a-f3fb-40e1-94f3-d19f0fc5245c",
   "metadata": {},
   "source": [
    "We use ```splitsample``` with the option ```split(.75 .25)``` to generate the variable ```sample```, which is 1 for a 75% of the sample and 2 for the remaining 25% of the sample. The assignment of each observation in sample to 1 or 2 is random, but the ```rseed``` option makes the random assignment reproducible."
   ]
  },
  {
   "cell_type": "code",
   "execution_count": 3,
   "id": "7641334f-9534-45f5-b25d-2f234a70c66e",
   "metadata": {},
   "outputs": [
    {
     "name": "stdout",
     "output_type": "stream",
     "text": [
      "\n",
      ". splitsample , generate(sample) split(.75 .25) rseed(42)\n",
      "\n",
      ". label define slabel 1 \"Training\" 2 \"Validation\"\n",
      "\n",
      ". label values sample slabel\n",
      "\n",
      ". tabulate sample\n",
      "\n",
      "     sample |      Freq.     Percent        Cum.\n",
      "------------+-----------------------------------\n",
      "   Training |      3,741       75.00       75.00\n",
      " Validation |      1,247       25.00      100.00\n",
      "------------+-----------------------------------\n",
      "      Total |      4,988      100.00\n",
      "\n",
      ". \n"
     ]
    }
   ],
   "source": [
    "%%stata\n",
    "splitsample , generate(sample) split(.75 .25) rseed(42)\n",
    "label define slabel 1 \"Training\" 2 \"Validation\"\n",
    "label values sample slabel\n",
    "tabulate sample"
   ]
  },
  {
   "cell_type": "markdown",
   "id": "b5755949-0110-48bb-844b-adcd5e5443d8",
   "metadata": {},
   "source": [
    "## OLS"
   ]
  },
  {
   "cell_type": "code",
   "execution_count": 4,
   "id": "01e5b4ae-0223-4c39-a1c9-99697546ec48",
   "metadata": {},
   "outputs": [
    {
     "name": "stdout",
     "output_type": "stream",
     "text": [
      "\n"
     ]
    }
   ],
   "source": [
    "%%stata -qui\n",
    "#delimit ;\n",
    "regress FKG log_num_authors log_num_pages both_genders prop_women\n",
    "            `journals' `jel_imp' y_2-y_20  c_2-c_215  jel_flag\n",
    "        if sample==1;\n",
    "estimate store ols;\n",
    "#delimit cr"
   ]
  },
  {
   "cell_type": "markdown",
   "id": "4b9bb11b-b184-41d1-a494-582b6533ae64",
   "metadata": {
    "tags": []
   },
   "source": [
    "## Ridge"
   ]
  },
  {
   "cell_type": "code",
   "execution_count": 5,
   "id": "a2f0f29e-19ea-46f7-ba23-6bdc375e1202",
   "metadata": {},
   "outputs": [
    {
     "name": "stdout",
     "output_type": "stream",
     "text": [
      "\n"
     ]
    }
   ],
   "source": [
    "%%stata -qui\n",
    "#delimit ;\n",
    "elasticnet linear FKG log_num_authors log_num_pages both_genders prop_women\n",
    "        `journals' `jel_imp' y_2-y_20  c_2-c_215  jel_flag if sample==1,\n",
    "        alpha(0) lambda(1.4) nolog;\n",
    "estimate store ridge;\n",
    "#delimit cr"
   ]
  },
  {
   "cell_type": "markdown",
   "id": "b2dec894-b977-44ea-98e0-9315aff9d7d0",
   "metadata": {},
   "source": [
    "## Lasso"
   ]
  },
  {
   "cell_type": "code",
   "execution_count": 6,
   "id": "2e0d8f24-223d-4c7d-b287-0babc1b6f625",
   "metadata": {},
   "outputs": [
    {
     "name": "stdout",
     "output_type": "stream",
     "text": [
      "\n"
     ]
    }
   ],
   "source": [
    "%%stata -qui\n",
    "#delimit ;\n",
    "lasso linear FKG log_num_authors log_num_pages both_genders prop_women\n",
    "             `journals' `jel_imp' y_2-y_20  c_2-c_215  jel_flag if sample==1,\n",
    "             lambda(0.004) nolog;\n",
    "estimates store lasso;\n",
    "#delimit cr"
   ]
  },
  {
   "cell_type": "markdown",
   "id": "f87d872e-2979-4b9f-950d-876348ef6057",
   "metadata": {},
   "source": [
    "## Elastic Net"
   ]
  },
  {
   "cell_type": "code",
   "execution_count": 7,
   "id": "a955f5ef-f32b-4cdd-b180-12759c65982c",
   "metadata": {},
   "outputs": [
    {
     "name": "stdout",
     "output_type": "stream",
     "text": [
      "\n"
     ]
    }
   ],
   "source": [
    "%%stata -qui\n",
    "#delimit ;\n",
    "elasticnet linear FKG log_num_authors log_num_pages both_genders prop_women\n",
    "                  `journals' `jel_imp' y_2-y_20  c_2-c_215  jel_flag if sample==1,\n",
    "                  alpha(.0001) nolog;\n",
    "estimate store elasticnet;\n",
    "#delimit cr"
   ]
  },
  {
   "cell_type": "markdown",
   "id": "3f126596-5656-49ee-b652-2d72e64d375c",
   "metadata": {},
   "source": [
    "## In- \\& Out-of-Sample Prediction"
   ]
  },
  {
   "cell_type": "code",
   "execution_count": 8,
   "id": "07a4147e-017e-4b25-92c4-3ecb85db834f",
   "metadata": {},
   "outputs": [
    {
     "name": "stdout",
     "output_type": "stream",
     "text": [
      "\n",
      "Penalized coefficients\n",
      "-------------------------------------------------------------\n",
      "Name             sample |         MSE    R-squared        Obs\n",
      "------------------------+------------------------------------\n",
      "ols                     |\n",
      "               Training |    .0257241       0.1018      3,741\n",
      "             Validation |    .0270229      -0.0156      1,247\n",
      "------------------------+------------------------------------\n",
      "ridge                   |\n",
      "               Training |    .0269054       0.0606      3,741\n",
      "             Validation |    .0261124       0.0186      1,247\n",
      "------------------------+------------------------------------\n",
      "lasso                   |\n",
      "               Training |    .0274847       0.0404      3,741\n",
      "             Validation |    .0262328       0.0141      1,247\n",
      "------------------------+------------------------------------\n",
      "elasticnet              |\n",
      "               Training |    .0272912       0.0471      3,741\n",
      "             Validation |    .0261453       0.0173      1,247\n",
      "-------------------------------------------------------------\n"
     ]
    }
   ],
   "source": [
    "%%stata\n",
    "lassogof ols ridge lasso elasticnet, over(sample)"
   ]
  },
  {
   "cell_type": "markdown",
   "id": "c3eab2b0-6112-4122-9b6f-c1903a21d664",
   "metadata": {},
   "source": [
    "<strong>Postselection</strong> coefficients should not be used with <em>elasticnet</em> and, in particular, with <em>ridge regression</em>. Ridge works by shrinking the coefficient estimates, and these are the estimates that should be used for prediction. Because postselection coefficients are OLS regression coefficients for the selected coefficients and because ridge always selects all variables, postselection coefficients after ridge are OLS regression coefficients for all potential variables, which clearly we do not want to use for prediction.\n"
   ]
  }
 ],
 "metadata": {
  "kernelspec": {
   "display_name": "Python 3 (ipykernel)",
   "language": "python",
   "name": "python3"
  },
  "language_info": {
   "codemirror_mode": {
    "name": "ipython",
    "version": 3
   },
   "file_extension": ".py",
   "mimetype": "text/x-python",
   "name": "python",
   "nbconvert_exporter": "python",
   "pygments_lexer": "ipython3",
   "version": "3.11.0"
  },
  "vscode": {
   "interpreter": {
    "hash": "11938c6bc6919ae2720b4d5011047913343b08a43b18698fd82dedb0d4417594"
   }
  }
 },
 "nbformat": 4,
 "nbformat_minor": 5
}
